{
  "nbformat": 4,
  "nbformat_minor": 0,
  "metadata": {
    "colab": {
      "name": "Traffic_Sign_Classifier_Solution.ipynb",
      "version": "0.3.2",
      "provenance": []
    },
    "kernelspec": {
      "name": "python3",
      "display_name": "Python 3"
    },
    "accelerator": "GPU"
  },
  "cells": [
    {
      "metadata": {
        "id": "pOlc8s7t7BB5",
        "colab_type": "text"
      },
      "cell_type": "markdown",
      "source": [
        "# Self-Driving Car Engineer Nanodegree\n",
        "\n",
        "## Deep Learning\n",
        "\n",
        "## Project: Build a Traffic Sign Recognition Classifier\n",
        "\n",
        "In this notebook, a template is provided for you to implement your functionality in stages which is required to successfully complete this project. If additional code is required that cannot be included in the notebook, be sure that the Python code is successfully imported and included in your submission, if necessary. Sections that begin with **'Implementation'** in the header indicate where you should begin your implementation for your project. Note that some sections of implementation are optional, and will be marked with **'Optional'** in the header.\n",
        "\n",
        "In addition to implementing code, there will be questions that you must answer which relate to the project and your implementation. Each section where you will answer a question is preceded by a **'Question'** header. Carefully read each question and provide thorough answers in the following text boxes that begin with **'Answer:'**. Your project submission will be evaluated based on your answers to each of the questions and the implementation you provide.\n",
        "\n",
        ">**Note:** Code and Markdown cells can be executed using the **Shift + Enter** keyboard shortcut. In addition, Markdown cells can be edited by typically double-clicking the cell to enter edit mode."
      ]
    },
    {
      "metadata": {
        "id": "1cgF0Iml7QXx",
        "colab_type": "code",
        "colab": {
          "base_uri": "https://localhost:8080/",
          "height": 122
        },
        "outputId": "02e99488-179d-464a-b66c-aceb9b9a6e89"
      },
      "cell_type": "code",
      "source": [
        "from google.colab import drive\n",
        "drive.mount('/content/drive')"
      ],
      "execution_count": 2,
      "outputs": [
        {
          "output_type": "stream",
          "text": [
            "Go to this URL in a browser: https://accounts.google.com/o/oauth2/auth?client_id=947318989803-6bn6qk8qdgf4n4g3pfee6491hc0brc4i.apps.googleusercontent.com&redirect_uri=urn%3Aietf%3Awg%3Aoauth%3A2.0%3Aoob&scope=email%20https%3A%2F%2Fwww.googleapis.com%2Fauth%2Fdocs.test%20https%3A%2F%2Fwww.googleapis.com%2Fauth%2Fdrive%20https%3A%2F%2Fwww.googleapis.com%2Fauth%2Fdrive.photos.readonly%20https%3A%2F%2Fwww.googleapis.com%2Fauth%2Fpeopleapi.readonly&response_type=code\n",
            "\n",
            "Enter your authorization code:\n",
            "··········\n",
            "Mounted at /content/drive\n"
          ],
          "name": "stdout"
        }
      ]
    },
    {
      "metadata": {
        "id": "q4wIMhVG7BB6",
        "colab_type": "text"
      },
      "cell_type": "markdown",
      "source": [
        "---\n",
        "## Step 0: Load The Data"
      ]
    },
    {
      "metadata": {
        "id": "N4r_pfED7BB8",
        "colab_type": "code",
        "colab": {}
      },
      "cell_type": "code",
      "source": [
        "# Load pickled data\n",
        "import pickle\n",
        "\n",
        "# TODO: Fill this in based on where you saved the training and testing data\n",
        "\n",
        "training_file = '/content/drive/My Drive/tsd/train.p'\n",
        "testing_file = '/content/drive/My Drive/tsd/test.p'\n",
        "\n",
        "with open(training_file, mode='rb') as f:\n",
        "    train = pickle.load(f)\n",
        "with open(testing_file, mode='rb') as f:\n",
        "    test = pickle.load(f)\n",
        "    \n",
        "X_train, y_train = train['features'], train['labels']\n",
        "X_test, y_test = test['features'], test['labels']"
      ],
      "execution_count": 0,
      "outputs": []
    },
    {
      "metadata": {
        "id": "UD00AKvl7BCA",
        "colab_type": "text"
      },
      "cell_type": "markdown",
      "source": [
        "* **Also loading Coordinates of Bounding Boxes around traffic signs for Visualization Purposes**"
      ]
    },
    {
      "metadata": {
        "id": "6T0RpSDZ7BCB",
        "colab_type": "code",
        "colab": {}
      },
      "cell_type": "code",
      "source": [
        "c_train, c_test = train['coords'], test['coords']"
      ],
      "execution_count": 0,
      "outputs": []
    },
    {
      "metadata": {
        "id": "xqPAkRwl7BCF",
        "colab_type": "text"
      },
      "cell_type": "markdown",
      "source": [
        "---\n",
        "\n",
        "## Step 1: Dataset Summary & Exploration\n",
        "\n",
        "The pickled data is a dictionary with 4 key/value pairs:\n",
        "\n",
        "- `'features'` is a 4D array containing raw pixel data of the traffic sign images, (num examples, width, height, channels).\n",
        "- `'labels'` is a 2D array containing the label/class id of the traffic sign. The file `signnames.csv` contains id -> name mappings for each id.\n",
        "- `'sizes'` is a list containing tuples, (width, height) representing the the original width and height the image.\n",
        "- `'coords'` is a list containing tuples, (x1, y1, x2, y2) representing coordinates of a bounding box around the sign in the image. **THESE COORDINATES ASSUME THE ORIGINAL IMAGE. THE PICKLED DATA CONTAINS RESIZED VERSIONS (32 by 32) OF THESE IMAGES**\n",
        "\n",
        "Complete the basic data summary below."
      ]
    },
    {
      "metadata": {
        "collapsed": true,
        "id": "pi2S9bxj7BCG",
        "colab_type": "text"
      },
      "cell_type": "markdown",
      "source": [
        "* **Importing the traffic sign names as a list with the key as the id of the sign**"
      ]
    },
    {
      "metadata": {
        "id": "01fekf9E7BCH",
        "colab_type": "code",
        "colab": {}
      },
      "cell_type": "code",
      "source": [
        "import csv\n",
        "\n",
        "sign_names = []\n",
        "with open('/content/drive/My Drive/tsd/signnames.csv', 'r') as f:\n",
        "    reader = csv.reader(f)\n",
        "    for row in reader:\n",
        "        sign_names.append(row[1])\n",
        "    sign_names.reverse()\n",
        "    sign_names.pop()\n",
        "    sign_names.reverse()"
      ],
      "execution_count": 0,
      "outputs": []
    },
    {
      "metadata": {
        "id": "s9FIdq3W7BCL",
        "colab_type": "text"
      },
      "cell_type": "markdown",
      "source": [
        "* **Meta Analysis of Training Data**"
      ]
    },
    {
      "metadata": {
        "id": "YM_r2E-27BCM",
        "colab_type": "code",
        "colab": {
          "base_uri": "https://localhost:8080/",
          "height": 85
        },
        "outputId": "b6162fa7-eb09-47cc-dd83-c02fbed2ec14"
      },
      "cell_type": "code",
      "source": [
        "### Replace each question mark with the appropriate value.\n",
        "\n",
        "# TODO: Number of training examples\n",
        "assert(len(X_train) == len(y_train))\n",
        "n_train = len(X_train)\n",
        "\n",
        "# TODO: Number of testing examples.\n",
        "assert(len(X_test)==len(y_test))\n",
        "n_test = len(X_test)\n",
        "\n",
        "# TODO: What's the shape of an traffic sign image?\n",
        "image_shape = X_train[0].shape\n",
        "\n",
        "# TODO: How many unique classes/labels there are in the dataset.\n",
        "n_classes = 43\n",
        "\n",
        "print(\"Number of training examples =\", n_train)\n",
        "print(\"Number of testing examples =\", n_test)\n",
        "print(\"Image data shape =\", image_shape)\n",
        "print(\"Number of classes =\", n_classes)"
      ],
      "execution_count": 5,
      "outputs": [
        {
          "output_type": "stream",
          "text": [
            "Number of training examples = 39209\n",
            "Number of testing examples = 12630\n",
            "Image data shape = (32, 32, 3)\n",
            "Number of classes = 43\n"
          ],
          "name": "stdout"
        }
      ]
    },
    {
      "metadata": {
        "id": "4qPW5t6g7BCR",
        "colab_type": "text"
      },
      "cell_type": "markdown",
      "source": [
        "Visualize the German Traffic Signs Dataset using the pickled file(s). This is open ended, suggestions include: plotting traffic sign images, plotting the count of each sign, etc.\n",
        "\n",
        "The [Matplotlib](http://matplotlib.org/) [examples](http://matplotlib.org/examples/index.html) and [gallery](http://matplotlib.org/gallery.html) pages are a great resource for doing visualizations in Python.\n",
        "\n",
        "**NOTE:** It's recommended you start with something simple first. If you wish to do more, come back to it after you've completed the rest of the sections."
      ]
    },
    {
      "metadata": {
        "id": "ehqAhoY17BCS",
        "colab_type": "text"
      },
      "cell_type": "markdown",
      "source": [
        "* **Plotting 25 random images from the Training dataset**"
      ]
    },
    {
      "metadata": {
        "id": "YpU296KM7BCU",
        "colab_type": "code",
        "colab": {
          "base_uri": "https://localhost:8080/",
          "height": 1081
        },
        "outputId": "32b80d07-072b-4c6a-e784-632474feaeb6"
      },
      "cell_type": "code",
      "source": [
        "### Data exploration visualization goes here.\n",
        "### Feel free to use as many code cells as needed.\n",
        "import matplotlib.pyplot as plt\n",
        "import matplotlib.patches as patches\n",
        "import random\n",
        "# Visualizations will be shown in the notebook.\n",
        "%matplotlib inline\n",
        "\n",
        "num_x = 5\n",
        "num_y = 5\n",
        "fig, ax = plt.subplots(num_y,num_x)\n",
        "fig.set_size_inches(10,15)\n",
        "for i in range(num_x*num_y):\n",
        "    n = random.random()*n_train\n",
        "    ax[int(i/num_x)][i%num_x].imshow(X_train[n])\n",
        "    coords = c_train[n]\n",
        "    rect = patches.Rectangle((coords[0],coords[1]),coords[2]-coords[0],coords[3]-coords[1],edgecolor='#00ff00',facecolor='none')\n",
        "    ax[int(i/num_x)][i%num_x].add_patch(rect)\n",
        "    ax[int(i/num_x)][i%num_x].set_title(sign_names[y_train[n]], fontsize=8)\n",
        "\n",
        "plt.show()"
      ],
      "execution_count": 6,
      "outputs": [
        {
          "output_type": "error",
          "ename": "IndexError",
          "evalue": "ignored",
          "traceback": [
            "\u001b[0;31m---------------------------------------------------------------------------\u001b[0m",
            "\u001b[0;31mIndexError\u001b[0m                                Traceback (most recent call last)",
            "\u001b[0;32m<ipython-input-6-d579690b8f02>\u001b[0m in \u001b[0;36m<module>\u001b[0;34m()\u001b[0m\n\u001b[1;32m     11\u001b[0m \u001b[0;32mfor\u001b[0m \u001b[0mi\u001b[0m \u001b[0;32min\u001b[0m \u001b[0mrange\u001b[0m\u001b[0;34m(\u001b[0m\u001b[0mnum_x\u001b[0m\u001b[0;34m*\u001b[0m\u001b[0mnum_y\u001b[0m\u001b[0;34m)\u001b[0m\u001b[0;34m:\u001b[0m\u001b[0;34m\u001b[0m\u001b[0m\n\u001b[1;32m     12\u001b[0m     \u001b[0mn\u001b[0m \u001b[0;34m=\u001b[0m \u001b[0mrandom\u001b[0m\u001b[0;34m.\u001b[0m\u001b[0mrandom\u001b[0m\u001b[0;34m(\u001b[0m\u001b[0;34m)\u001b[0m\u001b[0;34m*\u001b[0m\u001b[0mn_train\u001b[0m\u001b[0;34m\u001b[0m\u001b[0m\n\u001b[0;32m---> 13\u001b[0;31m     \u001b[0max\u001b[0m\u001b[0;34m[\u001b[0m\u001b[0mint\u001b[0m\u001b[0;34m(\u001b[0m\u001b[0mi\u001b[0m\u001b[0;34m/\u001b[0m\u001b[0mnum_x\u001b[0m\u001b[0;34m)\u001b[0m\u001b[0;34m]\u001b[0m\u001b[0;34m[\u001b[0m\u001b[0mi\u001b[0m\u001b[0;34m%\u001b[0m\u001b[0mnum_x\u001b[0m\u001b[0;34m]\u001b[0m\u001b[0;34m.\u001b[0m\u001b[0mimshow\u001b[0m\u001b[0;34m(\u001b[0m\u001b[0mX_train\u001b[0m\u001b[0;34m[\u001b[0m\u001b[0mn\u001b[0m\u001b[0;34m]\u001b[0m\u001b[0;34m)\u001b[0m\u001b[0;34m\u001b[0m\u001b[0m\n\u001b[0m\u001b[1;32m     14\u001b[0m     \u001b[0mcoords\u001b[0m \u001b[0;34m=\u001b[0m \u001b[0mc_train\u001b[0m\u001b[0;34m[\u001b[0m\u001b[0mn\u001b[0m\u001b[0;34m]\u001b[0m\u001b[0;34m\u001b[0m\u001b[0m\n\u001b[1;32m     15\u001b[0m     \u001b[0mrect\u001b[0m \u001b[0;34m=\u001b[0m \u001b[0mpatches\u001b[0m\u001b[0;34m.\u001b[0m\u001b[0mRectangle\u001b[0m\u001b[0;34m(\u001b[0m\u001b[0;34m(\u001b[0m\u001b[0mcoords\u001b[0m\u001b[0;34m[\u001b[0m\u001b[0;36m0\u001b[0m\u001b[0;34m]\u001b[0m\u001b[0;34m,\u001b[0m\u001b[0mcoords\u001b[0m\u001b[0;34m[\u001b[0m\u001b[0;36m1\u001b[0m\u001b[0;34m]\u001b[0m\u001b[0;34m)\u001b[0m\u001b[0;34m,\u001b[0m\u001b[0mcoords\u001b[0m\u001b[0;34m[\u001b[0m\u001b[0;36m2\u001b[0m\u001b[0;34m]\u001b[0m\u001b[0;34m-\u001b[0m\u001b[0mcoords\u001b[0m\u001b[0;34m[\u001b[0m\u001b[0;36m0\u001b[0m\u001b[0;34m]\u001b[0m\u001b[0;34m,\u001b[0m\u001b[0mcoords\u001b[0m\u001b[0;34m[\u001b[0m\u001b[0;36m3\u001b[0m\u001b[0;34m]\u001b[0m\u001b[0;34m-\u001b[0m\u001b[0mcoords\u001b[0m\u001b[0;34m[\u001b[0m\u001b[0;36m1\u001b[0m\u001b[0;34m]\u001b[0m\u001b[0;34m,\u001b[0m\u001b[0medgecolor\u001b[0m\u001b[0;34m=\u001b[0m\u001b[0;34m'#00ff00'\u001b[0m\u001b[0;34m,\u001b[0m\u001b[0mfacecolor\u001b[0m\u001b[0;34m=\u001b[0m\u001b[0;34m'none'\u001b[0m\u001b[0;34m)\u001b[0m\u001b[0;34m\u001b[0m\u001b[0m\n",
            "\u001b[0;31mIndexError\u001b[0m: only integers, slices (`:`), ellipsis (`...`), numpy.newaxis (`None`) and integer or boolean arrays are valid indices"
          ]
        },
        {
          "output_type": "display_data",
          "data": {
            "image/png": "[encoded data removed]",
            "text/plain": [
              "<matplotlib.figure.Figure at 0x7f2a8de33518>"
            ]
          },
          "metadata": {
            "tags": []
          }
        }
      ]
    },
    {
      "metadata": {
        "id": "9kibJcUu7BCY",
        "colab_type": "text"
      },
      "cell_type": "markdown",
      "source": [
        "* **Histogram of Labels in the Training Dataset**"
      ]
    },
    {
      "metadata": {
        "id": "zChrGR2b7BCZ",
        "colab_type": "code",
        "colab": {
          "base_uri": "https://localhost:8080/",
          "height": 231
        },
        "outputId": "2895907a-356f-4667-ada3-037ce098e57f"
      },
      "cell_type": "code",
      "source": [
        "import numpy as np\n",
        "hist_data = np.histogram(y_train,bins=range(44))\n",
        "hist_map = {}\n",
        "for occr,index in zip(hist_data[0],hist_data[1]):\n",
        "    hist_map[occr]=index\n",
        "\n",
        "plt.hist(y_train,bins=range(44),color='#00ffCC')\n",
        "plt.axis([0,43,0,2500])\n",
        "plt.show()\n",
        "\n",
        "print(\"Maximum Occuring Traffic Sign in the data: \"+sign_names[hist_map[np.amax(hist_data[0])]])\n",
        "print(\"Minimum Occuring Traffic Sign in the data: \"+sign_names[hist_map[np.amin(hist_data[0])]])"
      ],
      "execution_count": 9,
      "outputs": [
        {
          "output_type": "error",
          "ename": "NameError",
          "evalue": "ignored",
          "traceback": [
            "\u001b[0;31m---------------------------------------------------------------------------\u001b[0m",
            "\u001b[0;31mNameError\u001b[0m                                 Traceback (most recent call last)",
            "\u001b[0;32m<ipython-input-9-5fc8067667a2>\u001b[0m in \u001b[0;36m<module>\u001b[0;34m()\u001b[0m\n\u001b[1;32m      1\u001b[0m \u001b[0;32mimport\u001b[0m \u001b[0mnumpy\u001b[0m \u001b[0;32mas\u001b[0m \u001b[0mnp\u001b[0m\u001b[0;34m\u001b[0m\u001b[0m\n\u001b[0;32m----> 2\u001b[0;31m \u001b[0mhist_data\u001b[0m \u001b[0;34m=\u001b[0m \u001b[0mnp\u001b[0m\u001b[0;34m.\u001b[0m\u001b[0mhistogram\u001b[0m\u001b[0;34m(\u001b[0m\u001b[0my_train\u001b[0m\u001b[0;34m,\u001b[0m\u001b[0mbins\u001b[0m\u001b[0;34m=\u001b[0m\u001b[0mrange\u001b[0m\u001b[0;34m(\u001b[0m\u001b[0;36m44\u001b[0m\u001b[0;34m)\u001b[0m\u001b[0;34m)\u001b[0m\u001b[0;34m\u001b[0m\u001b[0m\n\u001b[0m\u001b[1;32m      3\u001b[0m \u001b[0mhist_map\u001b[0m \u001b[0;34m=\u001b[0m \u001b[0;34m{\u001b[0m\u001b[0;34m}\u001b[0m\u001b[0;34m\u001b[0m\u001b[0m\n\u001b[1;32m      4\u001b[0m \u001b[0;32mfor\u001b[0m \u001b[0moccr\u001b[0m\u001b[0;34m,\u001b[0m\u001b[0mindex\u001b[0m \u001b[0;32min\u001b[0m \u001b[0mzip\u001b[0m\u001b[0;34m(\u001b[0m\u001b[0mhist_data\u001b[0m\u001b[0;34m[\u001b[0m\u001b[0;36m0\u001b[0m\u001b[0;34m]\u001b[0m\u001b[0;34m,\u001b[0m\u001b[0mhist_data\u001b[0m\u001b[0;34m[\u001b[0m\u001b[0;36m1\u001b[0m\u001b[0;34m]\u001b[0m\u001b[0;34m)\u001b[0m\u001b[0;34m:\u001b[0m\u001b[0;34m\u001b[0m\u001b[0m\n\u001b[1;32m      5\u001b[0m     \u001b[0mhist_map\u001b[0m\u001b[0;34m[\u001b[0m\u001b[0moccr\u001b[0m\u001b[0;34m]\u001b[0m\u001b[0;34m=\u001b[0m\u001b[0mindex\u001b[0m\u001b[0;34m\u001b[0m\u001b[0m\n",
            "\u001b[0;31mNameError\u001b[0m: name 'y_train' is not defined"
          ]
        }
      ]
    },
    {
      "metadata": {
        "id": "wFq4lKxw7BCe",
        "colab_type": "text"
      },
      "cell_type": "markdown",
      "source": [
        "----\n",
        "\n",
        "## Step 2: Design and Test a Model Architecture\n",
        "\n",
        "Design and implement a deep learning model that learns to recognize traffic signs. Train and test your model on the [German Traffic Sign Dataset](http://benchmark.ini.rub.de/?section=gtsrb&subsection=dataset).\n",
        "\n",
        "There are various aspects to consider when thinking about this problem:\n",
        "\n",
        "- Neural network architecture\n",
        "- Play around preprocessing techniques (normalization, rgb to grayscale, etc)\n",
        "- Number of examples per label (some have more than others).\n",
        "- Generate fake data.\n",
        "\n",
        "Here is an example of a [published baseline model on this problem](http://yann.lecun.com/exdb/publis/pdf/sermanet-ijcnn-11.pdf). It's not required to be familiar with the approach used in the paper but, it's good practice to try to read papers like these.\n",
        "\n",
        "**NOTE:** The LeNet-5 implementation shown in the [classroom](https://classroom.udacity.com/nanodegrees/nd013/parts/fbf77062-5703-404e-b60c-95b78b2f3f9e/modules/6df7ae49-c61c-4bb2-a23e-6527e69209ec/lessons/601ae704-1035-4287-8b11-e2c2716217ad/concepts/d4aca031-508f-4e0b-b493-e7b706120f81) at the end of the CNN lesson is a solid starting point. You'll have to change the number of classes and possibly the preprocessing, but aside from that it's plug and play!"
      ]
    },
    {
      "metadata": {
        "id": "9_msshS37BCf",
        "colab_type": "text"
      },
      "cell_type": "markdown",
      "source": [
        "### Implementation\n",
        "\n",
        "Use the code cell (or multiple code cells, if necessary) to implement the first step of your project. Once you have completed your implementation and are satisfied with the results, be sure to thoroughly answer the questions that follow."
      ]
    },
    {
      "metadata": {
        "id": "hjTPDZ6G7BCh",
        "colab_type": "code",
        "colab": {}
      },
      "cell_type": "code",
      "source": [
        "import tensorflow as tf"
      ],
      "execution_count": 0,
      "outputs": []
    },
    {
      "metadata": {
        "id": "HoxHp_8u7BCl",
        "colab_type": "code",
        "colab": {}
      },
      "cell_type": "code",
      "source": [
        "'''Convenience Function'''\n",
        "def conv2d(x,W,b,output_depth,train=1,strides=1):\n",
        "\n",
        "    '''Tensor flow conv2d with same vertical and horizontal strides'''\n",
        "    x = tf.nn.conv2d(x,W,strides=[1,strides,strides,1],padding='VALID')\n",
        "    \n",
        "    '''Batch Normaliztion'''\n",
        "    x = batch_norm(x,output_depth,train)\n",
        "    \n",
        "    '''Adding the bias'''\n",
        "    x = tf.nn.bias_add(x,b)\n",
        "    \n",
        "    '''Relu Activation'''\n",
        "    return tf.nn.relu(x)   "
      ],
      "execution_count": 0,
      "outputs": []
    },
    {
      "metadata": {
        "id": "E4TiitcN7BCp",
        "colab_type": "code",
        "colab": {}
      },
      "cell_type": "code",
      "source": [
        "'''Convenience Function'''\n",
        "def max_pool(x,k=2):\n",
        "    return tf.nn.max_pool(x,ksize=[1,k,k,1],strides=[1,k,k,1],padding='VALID')"
      ],
      "execution_count": 0,
      "outputs": []
    },
    {
      "metadata": {
        "id": "trfV82kD7BCu",
        "colab_type": "text"
      },
      "cell_type": "markdown",
      "source": [
        "**Defining depth of each layer**"
      ]
    },
    {
      "metadata": {
        "id": "xmMr3P_v7BCv",
        "colab_type": "text"
      },
      "cell_type": "markdown",
      "source": [
        "Initally I had chosen **shallow depths** but I wasn't able to **overfit** a small subsample of the training set so I have chosen a conv neural net of medium depth for my purposes. \n",
        "\n",
        "* `1_c` : First Convolutional Layer (Depth: 30 5x5)\n",
        "* `2_c` : Second Convolutional Layer (Depth: 200 5x5)\n",
        "* `3_f` : Third Layer is Fully Connected (2200 neurons)\n",
        "* `4_f` : Fouth is Fully Connected (1000 neurons)\n",
        "* `5_f` : Fifth is Fully Connected (500 neurons)\n",
        "* `6_f` : Sixth is also Fully Connected (120 neurons)\n",
        "* `7_0` : Output Layer (43)\n",
        "\n",
        "**Summary :** 2 convolutional Layers, 4 fully connected layers and an output layer."
      ]
    },
    {
      "metadata": {
        "id": "QRORxF6J7BCx",
        "colab_type": "code",
        "colab": {}
      },
      "cell_type": "code",
      "source": [
        "depth = {\n",
        "    '1_c': 30,\n",
        "    '2_c': 200,\n",
        "    '3_f': 2200,\n",
        "    '4_f': 1000,\n",
        "    '5_f': 500,\n",
        "    '6_f': 120,\n",
        "    '7_o': 43\n",
        "}"
      ],
      "execution_count": 0,
      "outputs": []
    },
    {
      "metadata": {
        "id": "LxzYIufL7BC1",
        "colab_type": "text"
      },
      "cell_type": "markdown",
      "source": [
        "##### Weights:\n",
        "\n",
        "All have been initialized throught the **Xavier Initializer**. Initialization is very important and **Xavier Initializer** is currently a good default choice for that (suggested in CS213n). It helps us prevent the weights from very high values, or dying out, both of which are not desirable."
      ]
    },
    {
      "metadata": {
        "id": "-o67Im1b7BC7",
        "colab_type": "code",
        "colab": {}
      },
      "cell_type": "code",
      "source": [
        "weights = {\n",
        "    '1_conv': tf.get_variable(\"W_1_conv\", shape=[5, 5, 3, depth['1_c']],initializer=tf.contrib.layers.xavier_initializer()),\n",
        "    \n",
        "    '2_conv': tf.get_variable(\"W_2_conv\", shape=[5, 5, depth['1_c'], depth['2_c']],initializer=tf.contrib.layers.xavier_initializer()),\n",
        "    \n",
        "    '3_fullc': tf.get_variable(\"W_3_fullc\", shape=[5000, depth['3_f']],initializer=tf.contrib.layers.xavier_initializer()),\n",
        "    \n",
        "    '4_fullc': tf.get_variable(\"W_4_fullc\", shape=[depth['3_f'], depth['4_f']],initializer=tf.contrib.layers.xavier_initializer()),\n",
        "    \n",
        "    '5_fullc': tf.get_variable(\"W_5_fullc\", shape=[depth['4_f'], depth['5_f']],initializer=tf.contrib.layers.xavier_initializer()),\n",
        "    \n",
        "    '6_fullc': tf.get_variable(\"W_6_fullc\", shape=[depth['5_f'], depth['6_f']],initializer=tf.contrib.layers.xavier_initializer()),\n",
        "    \n",
        "    '7_out': tf.get_variable(\"W_7_out\", shape=[depth['6_f'], depth['7_o']],initializer=tf.contrib.layers.xavier_initializer())\n",
        "}"
      ],
      "execution_count": 0,
      "outputs": []
    },
    {
      "metadata": {
        "id": "bOS8Y7Qp7BC-",
        "colab_type": "code",
        "colab": {}
      },
      "cell_type": "code",
      "source": [
        "'''Biases'''\n",
        "biases = {\n",
        "    '1_conv': tf.Variable(tf.zeros(depth['1_c'])),\n",
        "    '2_conv': tf.Variable(tf.zeros(depth['2_c'])),\n",
        "    '3_fullc': tf.Variable(tf.zeros(depth['3_f'])),\n",
        "    '4_fullc': tf.Variable(tf.zeros(depth['4_f'])),\n",
        "    '5_fullc': tf.Variable(tf.zeros(depth['5_f'])),\n",
        "    '6_fullc': tf.Variable(tf.zeros(depth['6_f'])),\n",
        "    '7_out': tf.Variable(tf.zeros(depth['7_o']))\n",
        "}"
      ],
      "execution_count": 0,
      "outputs": []
    },
    {
      "metadata": {
        "id": "536VPg497BDB",
        "colab_type": "text"
      },
      "cell_type": "markdown",
      "source": [
        "I use batch normalization throughout the network so that it can learn to normalize it's weights if it is beneficial. [Normaliztion of Weights](https://classroom.udacity.com/nanodegrees/nd013/parts/fbf77062-5703-404e-b60c-95b78b2f3f9e/modules/6df7ae49-c61c-4bb2-a23e-6527e69209ec/lessons/91cc6685-08df-4277-b53d-3a792b02420d/concepts/71191606550923), Inspired from this lecture of CS213n [Youtube Link](https://www.youtube.com/watch?v=GUtlrDbHhJM)\n",
        "\n",
        "**Batch Normalization turns on only during training**"
      ]
    },
    {
      "metadata": {
        "id": "hWdtTG557BDD",
        "colab_type": "code",
        "colab": {}
      },
      "cell_type": "code",
      "source": [
        "def batch_norm(x, n_out, train):\n",
        "    \"\"\"\n",
        "    Batch normalization on convolutional maps.\n",
        "    Ref.: http://stackoverflow.com/questions/33949786/how-could-i-use-batch-normalization-in-tensorflow\n",
        "    Args:\n",
        "        x:           Tensor, 4D BHWD input maps\n",
        "        n_out:       integer, depth of input maps\n",
        "        phase_train: boolean tf.Varialbe, true indicates training phase\n",
        "        scope:       string, variable scope\n",
        "    Return:\n",
        "        normed:      batch-normalized maps\n",
        "    \"\"\"\n",
        "    with tf.variable_scope('bn'):\n",
        "        beta = tf.Variable(tf.constant(0.0, shape=[n_out]),\n",
        "                                     name='beta', trainable=True)\n",
        "        gamma = tf.Variable(tf.constant(1.0, shape=[n_out]),\n",
        "                                      name='gamma', trainable=True)\n",
        "        batch_mean, batch_var = tf.nn.moments(x, [0,1,2], name='moments')\n",
        "        ema = tf.train.ExponentialMovingAverage(decay=0.5)\n",
        "\n",
        "        def mean_var_with_update():\n",
        "            ema_apply_op = ema.apply([batch_mean, batch_var])\n",
        "            with tf.control_dependencies([ema_apply_op]):\n",
        "                return tf.identity(batch_mean), tf.identity(batch_var)\n",
        "\n",
        "        mean, var = tf.cond(train>0,mean_var_with_update,lambda: (ema.average(batch_mean), ema.average(batch_var)))\n",
        "        normed = tf.nn.batch_normalization(x, mean, var, beta, gamma, 1e-3)\n",
        "    return normed"
      ],
      "execution_count": 0,
      "outputs": []
    },
    {
      "metadata": {
        "id": "CZCvM0Dc7BDH",
        "colab_type": "code",
        "colab": {}
      },
      "cell_type": "code",
      "source": [
        "def batch_norm_fullc(x, n_out, train):\n",
        "    \n",
        "    '''Batch normalization for fully connected layers'''\n",
        "    \n",
        "    with tf.variable_scope('bn'):\n",
        "        beta = tf.Variable(tf.constant(0.0, shape=[n_out]),\n",
        "                                     name='beta', trainable=True)\n",
        "        gamma = tf.Variable(tf.constant(1.0, shape=[n_out]),\n",
        "                                      name='gamma', trainable=True)\n",
        "        batch_mean, batch_var = tf.nn.moments(x, [0], name='moments')\n",
        "        ema = tf.train.ExponentialMovingAverage(decay=0.5)\n",
        "\n",
        "        def mean_var_with_update():\n",
        "            ema_apply_op = ema.apply([batch_mean, batch_var])\n",
        "            with tf.control_dependencies([ema_apply_op]):\n",
        "                return tf.identity(batch_mean), tf.identity(batch_var)\n",
        "\n",
        "        mean, var = tf.cond(train>0,\n",
        "                            mean_var_with_update,\n",
        "                            lambda: (ema.average(batch_mean), ema.average(batch_var)))\n",
        "        normed = tf.nn.batch_normalization(x, mean, var, beta, gamma, 1e-3)\n",
        "    return normed"
      ],
      "execution_count": 0,
      "outputs": []
    },
    {
      "metadata": {
        "id": "SiPlImwV7BDK",
        "colab_type": "code",
        "colab": {}
      },
      "cell_type": "code",
      "source": [
        "from tensorflow.contrib.layers import flatten\n",
        "\n",
        "def TS_Classifier(x,train=1):  \n",
        "    \n",
        "    ''' Layer 1: Convolutional. Input = 32x32x3. Output = 28x28x30. '''\n",
        "    conv1 = conv2d(x,weights['1_conv'],biases['1_conv'],depth['1_c'],train)\n",
        "\n",
        "    # Max Pooling. Input = 28x28x30. Output = 14x14x30.\n",
        "    conv1 = max_pool(conv1)\n",
        "    \n",
        "    \n",
        "    ''' Layer 2: Convolutional. Input = 14x14x30 Output = 10x10x200. '''\n",
        "    \n",
        "    conv2 = conv2d(conv1,weights['2_conv'],biases['2_conv'],depth['2_c'],train)\n",
        "\n",
        "    # Max Pooling. Input = 10x10x200. Output = 10x10x200.\n",
        "    conv2 = max_pool(conv2)\n",
        "    \n",
        "    \n",
        "    ''' Flatten: Input = 10x10x200. Output = 5000 '''\n",
        "    \n",
        "    fc0 = flatten(conv2)\n",
        "    \n",
        "    \n",
        "    ''' Layer 3: Fully Connected. Input = 5000. Output = 2200. '''\n",
        "    \n",
        "    fullc1 = tf.add(tf.matmul(fc0,weights['3_fullc']),biases['3_fullc'])\n",
        "    \n",
        "    # Batch Normalization. (Only During Training)\n",
        "    fullc1 = batch_norm_fullc(fullc1,depth['3_f'],train)\n",
        "    \n",
        "    # Relu Activation.\n",
        "    fullc1 = tf.nn.relu(fullc1)\n",
        "\n",
        "    # Dropout: 0.5 (Only During Training)\n",
        "    fullc1 = tf.cond(train>0, lambda: tf.nn.dropout(fullc1,0.50), lambda: fullc1)\n",
        "    \n",
        "    \n",
        "    ''' Layer 4: Fully Connected. Input = 2200. Output = 1000'''\n",
        "    \n",
        "    fullc2 = tf.add(tf.matmul(fullc1,weights['4_fullc']),biases['4_fullc'])\n",
        "    \n",
        "    # Batch Normalization (Only During Training)\n",
        "    fullc2 = batch_norm_fullc(fullc2,depth['4_f'],train)\n",
        "    \n",
        "    # Relu Activation\n",
        "    fullc2 = tf.nn.relu(fullc2)\n",
        "    \n",
        "    # Dropout: 0.5 (Only During Training)\n",
        "    fullc2 = tf.cond(train>0, lambda: tf.nn.dropout(fullc2,0.50), lambda: fullc2)\n",
        "    \n",
        "    \n",
        "    ''' Layer 5: Fully Connected. Input = 1000. Output = 500'''\n",
        "    \n",
        "    fullc3 = tf.add(tf.matmul(fullc2,weights['5_fullc']),biases['5_fullc'])\n",
        "    \n",
        "    # Batch normalization. (Only During Training)\n",
        "    fullc3 = batch_norm_fullc(fullc3,depth['5_f'],train)\n",
        "    \n",
        "    # Relu Activation\n",
        "    fullc3 = tf.nn.relu(fullc3)\n",
        "    \n",
        "    # Dropout: 0.5 (Only During Training)\n",
        "    fullc3 = tf.cond(train>0, lambda: tf.nn.dropout(fullc3,0.50), lambda: fullc3)\n",
        "    \n",
        "    \n",
        "    ''' Layer 6: Fully Connected. Input = 500. Output = 120'''\n",
        "    \n",
        "    fullc4 = tf.add(tf.matmul(fullc3,weights['6_fullc']),biases['6_fullc'])\n",
        "    \n",
        "    # Batch normalization. (Only During Training)\n",
        "    fullc4 = batch_norm_fullc(fullc4,depth['6_f'],train)\n",
        "    \n",
        "    # Relu Activation\n",
        "    fullc4 = tf.nn.relu(fullc4)\n",
        "    \n",
        "    # Dropout 0.5 (Only During Training)\n",
        "    fullc4 = tf.cond(train>0, lambda: tf.nn.dropout(fullc4,0.50), lambda: fullc4)\n",
        "    \n",
        "    \n",
        "    ''' Layer 7: Output, Fully Connected. Input = 120. Output = 43'''\n",
        "    \n",
        "    logits = tf.add(tf.matmul(fullc4,weights['7_out']),biases['7_out'])\n",
        "    \n",
        "    return logits"
      ],
      "execution_count": 0,
      "outputs": []
    },
    {
      "metadata": {
        "id": "l3HPbJpj7BDN",
        "colab_type": "text"
      },
      "cell_type": "markdown",
      "source": [
        "### Question 1 \n",
        "\n",
        "_Describe how you preprocessed the data. Why did you choose that technique?_"
      ]
    },
    {
      "metadata": {
        "id": "YhpgOu_o7BDN",
        "colab_type": "text"
      },
      "cell_type": "markdown",
      "source": [
        "**Answer:**"
      ]
    },
    {
      "metadata": {
        "id": "jKXvOfWO7BDO",
        "colab_type": "text"
      },
      "cell_type": "markdown",
      "source": [
        "First I normalized the data by the maximum value of a channel. This was done for [numerical stability](https://classroom.udacity.com/nanodegrees/nd013/parts/fbf77062-5703-404e-b60c-95b78b2f3f9e/modules/6df7ae49-c61c-4bb2-a23e-6527e69209ec/lessons/91cc6685-08df-4277-b53d-3a792b02420d/concepts/4da33923-945b-4dc4-b13d-920e7c14f684). So that the network has an easy path of convergance"
      ]
    },
    {
      "metadata": {
        "id": "5hgueS2E7BDQ",
        "colab_type": "code",
        "colab": {}
      },
      "cell_type": "code",
      "source": [
        "### Generate data additional data (OPTIONAL!)\n",
        "### and split the data into training/validation/testing sets here.\n",
        "### Feel free to use as many code cells as needed.\n",
        "import numpy as np\n",
        "\n",
        "X_train = np.array(X_train)\n",
        "X_train = X_train/255"
      ],
      "execution_count": 0,
      "outputs": []
    },
    {
      "metadata": {
        "id": "RXLE0GUH7BDT",
        "colab_type": "text"
      },
      "cell_type": "markdown",
      "source": [
        "I normalized the data so that the optimizer doesn't have a hard time and it can optimize quiker. [Normalize weights and Inputs Lecture](https://classroom.udacity.com/nanodegrees/nd013/parts/fbf77062-5703-404e-b60c-95b78b2f3f9e/modules/6df7ae49-c61c-4bb2-a23e-6527e69209ec/lessons/91cc6685-08df-4277-b53d-3a792b02420d/concepts/71191606550923)  from the Deep Learning Section. \n",
        "\n",
        "I compute the mean image of the training set and subtracted from the whole training set."
      ]
    },
    {
      "metadata": {
        "id": "1FTy-u817BDT",
        "colab_type": "code",
        "colab": {}
      },
      "cell_type": "code",
      "source": [
        "chann_index_swap = np.swapaxes(X_train,0,3)\n",
        "mean_image = [[[sum(pixel)/len(pixel) for pixel in col] for col in row] for row in chann_index_swap]\n",
        "mean_image = np.swapaxes(mean_image,0,2)\n",
        "mean_image = np.swapaxes(mean_image,0,1)\n",
        "\n",
        "X_train = X_train - mean_image"
      ],
      "execution_count": 0,
      "outputs": []
    },
    {
      "metadata": {
        "id": "LPjJD9tp7BDW",
        "colab_type": "text"
      },
      "cell_type": "markdown",
      "source": [
        "* **Plotting the mean image. Just for fun ;-)**"
      ]
    },
    {
      "metadata": {
        "id": "RSkSqX6U7BDX",
        "colab_type": "code",
        "colab": {
          "base_uri": "https://localhost:8080/",
          "height": 266
        },
        "outputId": "4f8ce0de-d482-41c8-8a29-501918b8aa81"
      },
      "cell_type": "code",
      "source": [
        "import matplotlib.pyplot as plt\n",
        "plt.imshow(mean_image)\n",
        "plt.show()"
      ],
      "execution_count": 19,
      "outputs": [
        {
          "output_type": "display_data",
          "data": {
            "image/png": "[encoded data removed]",
            "text/plain": [
              "<matplotlib.figure.Figure at 0x7f2a31e019e8>"
            ]
          },
          "metadata": {
            "tags": []
          }
        }
      ]
    },
    {
      "metadata": {
        "id": "296p3mgj7BDb",
        "colab_type": "text"
      },
      "cell_type": "markdown",
      "source": [
        "### Question 2\n",
        "\n",
        "_Describe how you set up the training, validation and testing data for your model. **Optional**: If you generated additional data, how did you generate the data? Why did you generate the data? What are the differences in the new dataset (with generated data) from the original dataset?_"
      ]
    },
    {
      "metadata": {
        "id": "K2mPVUDW7BDc",
        "colab_type": "text"
      },
      "cell_type": "markdown",
      "source": [
        "**Answer:**"
      ]
    },
    {
      "metadata": {
        "id": "jQKQQdp57BDc",
        "colab_type": "text"
      },
      "cell_type": "markdown",
      "source": [
        "We initially have two sets of data, namely training and test data. The training set has **39209** examples while the test set has **12630** examples.\n",
        "\n",
        "I sliced out **20%** of the training data for validation."
      ]
    },
    {
      "metadata": {
        "id": "mZyJw6oo7BDe",
        "colab_type": "code",
        "colab": {}
      },
      "cell_type": "code",
      "source": [
        "from sklearn.utils import shuffle\n",
        "from sklearn.model_selection import train_test_split\n",
        "\n",
        "X_train, y_train = shuffle(X_train, y_train)\n",
        "X_train, X_validation, y_train, y_validation = train_test_split(X_train,y_train,test_size=0.2,random_state=0)"
      ],
      "execution_count": 0,
      "outputs": []
    },
    {
      "metadata": {
        "id": "GkG3NEjb7BDi",
        "colab_type": "text"
      },
      "cell_type": "markdown",
      "source": [
        "### Question 3\n",
        "\n",
        "_What does your final architecture look like? (Type of model, layers, sizes, connectivity, etc.)  For reference on how to build a deep neural network using TensorFlow, see [Deep Neural Network in TensorFlow\n",
        "](https://classroom.udacity.com/nanodegrees/nd013/parts/fbf77062-5703-404e-b60c-95b78b2f3f9e/modules/6df7ae49-c61c-4bb2-a23e-6527e69209ec/lessons/b516a270-8600-4f93-a0a3-20dfeabe5da6/concepts/83a3a2a2-a9bd-4b7b-95b0-eb924ab14432) from the classroom._\n"
      ]
    },
    {
      "metadata": {
        "id": "0E6aXRxg7BDk",
        "colab_type": "text"
      },
      "cell_type": "markdown",
      "source": [
        "**Answer:**"
      ]
    },
    {
      "metadata": {
        "id": "_eXt_m6W7BDk",
        "colab_type": "text"
      },
      "cell_type": "markdown",
      "source": [
        "I have modified the **LeNet** ConvNet for Traffic Sign Classification purposes. I mainly **increased the depth** of the various Layers. **Added more fully connected layers.** I also added **batch normalization**, **dropout** as well as **L2 regularization** to my model.\n",
        "\n",
        "For initialization of weight paramerters I used **Xavier initializer** instead of the **truncated normal** one. I got this form the **CS213n Lectures on \"Conv Nets For Visual Recognition\"** and searched the web, and found favourable reviews of this method of initialization that has recently been proposed.\n",
        "\n",
        "Initally I had chosen **shallow depths** but I wasn't able to **overfit** a small subsample of the training set so I have chosen a conv neural net of medium depth for my purposes. \n",
        "\n",
        "* `1_c` : First Convolutional Layer (Depth: 30, Dimensions:5x5 stride: 1x1, padding: 'VALID')\n",
        "* `2_c` : Second Convolutional Layer (Depth: 200 5x5,)\n",
        "* `3_f` : Third Layer is Fully Connected (2200 neurons)\n",
        "* `4_f` : Fouth is Fully Connected (1000 neurons)\n",
        "* `5_f` : Fifth is Fully Connected (500 neurons)\n",
        "* `6_f` : Sixth is also Fully Connected (120 neurons)\n",
        "* `7_0` : Output Layer (43)\n",
        "\n",
        "**Summary :** 2 convolutional Layers, 4 fully connected layers and an output layer.\n"
      ]
    },
    {
      "metadata": {
        "id": "mthEyhIO7BDm",
        "colab_type": "text"
      },
      "cell_type": "markdown",
      "source": [
        "Input and output placeholders. Also One Hot encoding the outputs"
      ]
    },
    {
      "metadata": {
        "id": "VzBt1OlW7BDo",
        "colab_type": "code",
        "colab": {}
      },
      "cell_type": "code",
      "source": [
        "### Train your model here.\n",
        "### Feel free to use as many code cells as needed.\n",
        "x = tf.placeholder(tf.float32, (None, 32, 32, 3))\n",
        "y = tf.placeholder(tf.int32, (None))\n",
        "\n",
        "'''One hot encoding the Labels'''\n",
        "one_hot_y = tf.one_hot(y, 43)"
      ],
      "execution_count": 0,
      "outputs": []
    },
    {
      "metadata": {
        "id": "_E8_BNER7BDt",
        "colab_type": "text"
      },
      "cell_type": "markdown",
      "source": [
        "#### **Training Setup**\n",
        "\n",
        "* **Applying learning rate decay.**\n",
        "* **L2 Regularization on the loss.**\n",
        "* **Using Softmax Cross Validation fuction as the loss function**\n",
        "* **Using the Adam Optimizer** "
      ]
    },
    {
      "metadata": {
        "id": "KOXmra777BDu",
        "colab_type": "code",
        "colab": {}
      },
      "cell_type": "code",
      "source": [
        "'''Learning rate made into a placeholder for exponential decay'''\n",
        "rate = tf.placeholder(tf.float32)\n",
        "\n",
        "'''L2 Regularization Hyper-parameter'''\n",
        "beta = tf.placeholder(tf.float32)\n",
        "\n",
        "'''Parameter for switching between training and testing modes'''\n",
        "train = tf.placeholder(tf.int32)\n",
        "\n",
        "'''Initial Learning Rate'''\n",
        "lr = 0.0001\n",
        "\n",
        "'''L2 regularization (Beta)'''\n",
        "b = 1e-6\n",
        "\n",
        "'''Rate of Learning rate decay'''\n",
        "k = 1e-7\n",
        "\n",
        "\n",
        "'''MODEL'''\n",
        "logits = TS_Classifier(x,train)\n",
        "\n",
        "'''LOSS'''\n",
        "cross_entropy = tf.nn.softmax_cross_entropy_with_logits(logits=logits, labels=one_hot_y)\n",
        "loss = tf.reduce_mean(cross_entropy)\n",
        "loss = tf.reduce_mean(loss+beta*tf.nn.l2_loss(weights['1_conv']))\n",
        "loss = tf.reduce_mean(loss+beta*tf.nn.l2_loss(weights['2_conv']))\n",
        "loss = tf.reduce_mean(loss+beta*tf.nn.l2_loss(weights['3_fullc']))\n",
        "loss = tf.reduce_mean(loss+beta*tf.nn.l2_loss(weights['4_fullc']))\n",
        "loss = tf.reduce_mean(loss+beta*tf.nn.l2_loss(weights['5_fullc']))\n",
        "loss = tf.reduce_mean(loss+beta*tf.nn.l2_loss(weights['6_fullc']))\n",
        "loss = tf.reduce_mean(loss+beta*tf.nn.l2_loss(weights['7_out']))\n",
        "loss = tf.reduce_mean(loss+beta*tf.nn.l2_loss(biases['1_conv']))\n",
        "loss = tf.reduce_mean(loss+beta*tf.nn.l2_loss(biases['2_conv']))\n",
        "loss = tf.reduce_mean(loss+beta*tf.nn.l2_loss(biases['3_fullc']))\n",
        "loss = tf.reduce_mean(loss+beta*tf.nn.l2_loss(biases['4_fullc']))\n",
        "loss = tf.reduce_mean(loss+beta*tf.nn.l2_loss(biases['5_fullc']))\n",
        "loss = tf.reduce_mean(loss+beta*tf.nn.l2_loss(biases['6_fullc']))\n",
        "loss_operation = tf.reduce_mean(loss+beta*tf.nn.l2_loss(biases['7_out']))\n",
        "\n",
        "'''OPTIMIZER'''\n",
        "optimizer = tf.train.AdamOptimizer(learning_rate = rate)\n",
        "training_operation = optimizer.minimize(loss_operation)"
      ],
      "execution_count": 0,
      "outputs": []
    },
    {
      "metadata": {
        "id": "e9wRNzI_7BDx",
        "colab_type": "text"
      },
      "cell_type": "markdown",
      "source": [
        "**Evaluation Setup from LeNet-Lab in the Convolutional Neural Networks Section**"
      ]
    },
    {
      "metadata": {
        "id": "nF7Hk1DI7BDy",
        "colab_type": "code",
        "colab": {}
      },
      "cell_type": "code",
      "source": [
        "correct_prediction = tf.equal(tf.argmax(logits, 1), tf.argmax(one_hot_y, 1))\n",
        "accuracy_operation = tf.reduce_mean(tf.cast(correct_prediction, tf.float32))\n",
        "saver = tf.train.Saver()\n",
        "\n",
        "def evaluate(X_data, y_data):\n",
        "    num_examples = len(X_data)\n",
        "    total_accuracy = 0\n",
        "    sess = tf.get_default_session()\n",
        "    for offset in range(0, num_examples, BATCH_SIZE):\n",
        "        batch_x, batch_y = X_data[offset:offset+BATCH_SIZE], y_data[offset:offset+BATCH_SIZE]\n",
        "        accuracy = sess.run(accuracy_operation, feed_dict={x: batch_x, y: batch_y,train:-1})\n",
        "        total_accuracy += (accuracy * len(batch_x))\n",
        "    return total_accuracy / num_examples"
      ],
      "execution_count": 0,
      "outputs": []
    },
    {
      "metadata": {
        "id": "mrP7oVtW7BD0",
        "colab_type": "text"
      },
      "cell_type": "markdown",
      "source": [
        "#### Babysitting the Network\n",
        "\n",
        "Applying the network on a very small set of images from the training set to verify that it can overfit that small set of data. Inspired by lecture from CS213n [Youtube Link](https://www.youtube.com/watch?v=GUtlrDbHhJM)"
      ]
    },
    {
      "metadata": {
        "id": "Vy_h6NsQ7BD1",
        "colab_type": "code",
        "colab": {
          "base_uri": "https://localhost:8080/",
          "height": 1768
        },
        "outputId": "8a9896dd-7bd1-483d-c18f-3b87d802d450"
      },
      "cell_type": "code",
      "source": [
        "import math\n",
        "\n",
        "''' Small Training Subset of 20 images '''\n",
        "small_sample_x = X_train[0:20]\n",
        "small_sample_y = y_train[0:20]\n",
        "\n",
        "with tf.Session() as sess:\n",
        "    sess.run(tf.global_variables_initializer(),feed_dict={train:1})\n",
        "    num_examples = len(small_sample_x)\n",
        "    \n",
        "    batch_size = 10\n",
        "    print(\"Can we overfit?.......\")\n",
        "    print()\n",
        "    \n",
        "    print(\"Decay: \"+str(k))\n",
        "    for i in range(100):\n",
        "        \n",
        "        lr = float(lr*np.exp(-k*i))\n",
        "        \n",
        "        for offset in range(0,num_examples,batch_size):\n",
        "            end = offset + batch_size\n",
        "            batch_x, batch_y = small_sample_x[offset:end], y_train[offset:end]\n",
        "            sess.run(training_operation, feed_dict={x:small_sample_x, y:small_sample_y, train:-1, rate:lr, beta:b})\n",
        "            \n",
        "        c = sess.run(loss_operation, feed_dict={x: small_sample_x, y: small_sample_y,train:-1, rate:lr, beta:b})\n",
        "        print(\"Epoch: \"+str(i)+\" loss: \"+str(c)+\" learn rate:\"+str(lr)+\" beta: \"+str(b)+\" decay: \"+str(k))"
      ],
      "execution_count": 28,
      "outputs": [
        {
          "output_type": "stream",
          "text": [
            "Can we overfit?.......\n",
            "\n",
            "Decay: 1e-07\n",
            "Epoch: 0 loss: 25400874.0 learn rate:0.0001 beta: 1e-06 decay: 1e-07\n",
            "Epoch: 1 loss: 12908090.0 learn rate:9.99999900000005e-05 beta: 1e-06 decay: 1e-07\n",
            "Epoch: 2 loss: 5599874.5 learn rate:9.99999700000045e-05 beta: 1e-06 decay: 1e-07\n",
            "Epoch: 3 loss: 2292737.5 learn rate:9.9999940000018e-05 beta: 1e-06 decay: 1e-07\n",
            "Epoch: 4 loss: 1566172.5 learn rate:9.999990000005e-05 beta: 1e-06 decay: 1e-07\n",
            "Epoch: 5 loss: 309924.3 learn rate:9.999985000011251e-05 beta: 1e-06 decay: 1e-07\n",
            "Epoch: 6 loss: 270742.9 learn rate:9.99997900002205e-05 beta: 1e-06 decay: 1e-07\n",
            "Epoch: 7 loss: 123628.3 learn rate:9.999972000039199e-05 beta: 1e-06 decay: 1e-07\n",
            "Epoch: 8 loss: 57389.5 learn rate:9.9999640000648e-05 beta: 1e-06 decay: 1e-07\n",
            "Epoch: 9 loss: 151826.6 learn rate:9.99995500010125e-05 beta: 1e-06 decay: 1e-07\n",
            "Epoch: 10 loss: 40987.4 learn rate:9.99994500015125e-05 beta: 1e-06 decay: 1e-07\n",
            "Epoch: 11 loss: 0.0026828728 learn rate:9.9999340002178e-05 beta: 1e-06 decay: 1e-07\n",
            "Epoch: 12 loss: 0.0026804537 learn rate:9.999922000304199e-05 beta: 1e-06 decay: 1e-07\n",
            "Epoch: 13 loss: 0.0026779752 learn rate:9.999909000414048e-05 beta: 1e-06 decay: 1e-07\n",
            "Epoch: 14 loss: 0.0026754383 learn rate:9.999895000551248e-05 beta: 1e-06 decay: 1e-07\n",
            "Epoch: 15 loss: 0.002672849 learn rate:9.999880000719997e-05 beta: 1e-06 decay: 1e-07\n",
            "Epoch: 16 loss: 84000.8 learn rate:9.999864000924796e-05 beta: 1e-06 decay: 1e-07\n",
            "Epoch: 17 loss: 0.0026675386 learn rate:9.999847001170444e-05 beta: 1e-06 decay: 1e-07\n",
            "Epoch: 18 loss: 0.0026648263 learn rate:9.999829001462042e-05 beta: 1e-06 decay: 1e-07\n",
            "Epoch: 19 loss: 0.0026620796 learn rate:9.999810001804989e-05 beta: 1e-06 decay: 1e-07\n",
            "Epoch: 20 loss: 0.0026593045 learn rate:9.999790002204985e-05 beta: 1e-06 decay: 1e-07\n",
            "Epoch: 21 loss: 0.0026565015 learn rate:9.99976900266803e-05 beta: 1e-06 decay: 1e-07\n",
            "Epoch: 22 loss: 0.00265367 learn rate:9.999747003200423e-05 beta: 1e-06 decay: 1e-07\n",
            "Epoch: 23 loss: 0.0026508137 learn rate:9.999724003808764e-05 beta: 1e-06 decay: 1e-07\n",
            "Epoch: 24 loss: 0.0026479354 learn rate:9.999700004499954e-05 beta: 1e-06 decay: 1e-07\n",
            "Epoch: 25 loss: 0.0026450367 learn rate:9.999675005281192e-05 beta: 1e-06 decay: 1e-07\n",
            "Epoch: 26 loss: 0.002642118 learn rate:9.999649006159976e-05 beta: 1e-06 decay: 1e-07\n",
            "Epoch: 27 loss: 0.0026391807 learn rate:9.999622007144107e-05 beta: 1e-06 decay: 1e-07\n",
            "Epoch: 28 loss: 0.0026362282 learn rate:9.999594008241685e-05 beta: 1e-06 decay: 1e-07\n",
            "Epoch: 29 loss: 0.0026332622 learn rate:9.999565009461109e-05 beta: 1e-06 decay: 1e-07\n",
            "Epoch: 30 loss: 0.002630283 learn rate:9.999535010811078e-05 beta: 1e-06 decay: 1e-07\n",
            "Epoch: 31 loss: 0.0026272922 learn rate:9.999504012300592e-05 beta: 1e-06 decay: 1e-07\n",
            "Epoch: 32 loss: 0.0026242905 learn rate:9.99947201393895e-05 beta: 1e-06 decay: 1e-07\n",
            "Epoch: 33 loss: 0.0026212786 learn rate:9.999439015735752e-05 beta: 1e-06 decay: 1e-07\n",
            "Epoch: 34 loss: 0.0026182584 learn rate:9.999405017700894e-05 beta: 1e-06 decay: 1e-07\n",
            "Epoch: 35 loss: 0.0026152313 learn rate:9.999370019844578e-05 beta: 1e-06 decay: 1e-07\n",
            "Epoch: 36 loss: 0.002612197 learn rate:9.999334022177303e-05 beta: 1e-06 decay: 1e-07\n",
            "Epoch: 37 loss: 15302.203 learn rate:9.999297024709866e-05 beta: 1e-06 decay: 1e-07\n",
            "Epoch: 38 loss: 0.0026061179 learn rate:9.999259027453367e-05 beta: 1e-06 decay: 1e-07\n",
            "Epoch: 39 loss: 0.0026030743 learn rate:9.999220030419203e-05 beta: 1e-06 decay: 1e-07\n",
            "Epoch: 40 loss: 0.0026000275 learn rate:9.999180033619075e-05 beta: 1e-06 decay: 1e-07\n",
            "Epoch: 41 loss: 0.002596978 learn rate:9.99913903706498e-05 beta: 1e-06 decay: 1e-07\n",
            "Epoch: 42 loss: 0.0025939262 learn rate:9.999097040769216e-05 beta: 1e-06 decay: 1e-07\n",
            "Epoch: 43 loss: 0.0025908733 learn rate:9.999054044744382e-05 beta: 1e-06 decay: 1e-07\n",
            "Epoch: 44 loss: 0.00258782 learn rate:9.999010049003376e-05 beta: 1e-06 decay: 1e-07\n",
            "Epoch: 45 loss: 0.0025847668 learn rate:9.998965053559395e-05 beta: 1e-06 decay: 1e-07\n",
            "Epoch: 46 loss: 0.002581714 learn rate:9.998919058425937e-05 beta: 1e-06 decay: 1e-07\n",
            "Epoch: 47 loss: 0.0025786625 learn rate:9.9988720636168e-05 beta: 1e-06 decay: 1e-07\n",
            "Epoch: 48 loss: 0.0025756126 learn rate:9.998824069146081e-05 beta: 1e-06 decay: 1e-07\n",
            "Epoch: 49 loss: 1260.8026 learn rate:9.998775075028178e-05 beta: 1e-06 decay: 1e-07\n",
            "Epoch: 50 loss: 0.0025695236 learn rate:9.998725081277787e-05 beta: 1e-06 decay: 1e-07\n",
            "Epoch: 51 loss: 0.0025664854 learn rate:9.998674087909905e-05 beta: 1e-06 decay: 1e-07\n",
            "Epoch: 52 loss: 0.0025634514 learn rate:9.998622094939829e-05 beta: 1e-06 decay: 1e-07\n",
            "Epoch: 53 loss: 0.0025604218 learn rate:9.998569102383157e-05 beta: 1e-06 decay: 1e-07\n",
            "Epoch: 54 loss: 0.0025573974 learn rate:9.998515110255782e-05 beta: 1e-06 decay: 1e-07\n",
            "Epoch: 55 loss: 0.0025543782 learn rate:9.998460118573903e-05 beta: 1e-06 decay: 1e-07\n",
            "Epoch: 56 loss: 0.0025513642 learn rate:9.998404127354015e-05 beta: 1e-06 decay: 1e-07\n",
            "Epoch: 57 loss: 0.0025483568 learn rate:9.998347136612913e-05 beta: 1e-06 decay: 1e-07\n",
            "Epoch: 58 loss: 0.0025453554 learn rate:9.998289146367693e-05 beta: 1e-06 decay: 1e-07\n",
            "Epoch: 59 loss: 0.0025423612 learn rate:9.998230156635749e-05 beta: 1e-06 decay: 1e-07\n",
            "Epoch: 60 loss: 0.0025393742 learn rate:9.998170167434777e-05 beta: 1e-06 decay: 1e-07\n",
            "Epoch: 61 loss: 1530.5026 learn rate:9.998109178782771e-05 beta: 1e-06 decay: 1e-07\n",
            "Epoch: 62 loss: 0.002533426 learn rate:9.998047190698026e-05 beta: 1e-06 decay: 1e-07\n",
            "Epoch: 63 loss: 0.0025304668 learn rate:9.997984203199136e-05 beta: 1e-06 decay: 1e-07\n",
            "Epoch: 64 loss: 0.0025275156 learn rate:9.997920216304994e-05 beta: 1e-06 decay: 1e-07\n",
            "Epoch: 65 loss: 10032.202 learn rate:9.997855230034794e-05 beta: 1e-06 decay: 1e-07\n",
            "Epoch: 66 loss: 0.0025216464 learn rate:9.997789244408029e-05 beta: 1e-06 decay: 1e-07\n",
            "Epoch: 67 loss: 0.0025187286 learn rate:9.99772225944449e-05 beta: 1e-06 decay: 1e-07\n",
            "Epoch: 68 loss: 0.0025158215 learn rate:9.997654275164273e-05 beta: 1e-06 decay: 1e-07\n",
            "Epoch: 69 loss: 0.002512924 learn rate:9.997585291587769e-05 beta: 1e-06 decay: 1e-07\n",
            "Epoch: 70 loss: 0.002510036 learn rate:9.997515308735668e-05 beta: 1e-06 decay: 1e-07\n",
            "Epoch: 71 loss: 0.0025071586 learn rate:9.997444326628963e-05 beta: 1e-06 decay: 1e-07\n",
            "Epoch: 72 loss: 0.0025042908 learn rate:9.997372345288945e-05 beta: 1e-06 decay: 1e-07\n",
            "Epoch: 73 loss: 0.002501434 learn rate:9.997299364737204e-05 beta: 1e-06 decay: 1e-07\n",
            "Epoch: 74 loss: 0.0024985885 learn rate:9.99722538499563e-05 beta: 1e-06 decay: 1e-07\n",
            "Epoch: 75 loss: 0.0024957561 learn rate:9.997150406086413e-05 beta: 1e-06 decay: 1e-07\n",
            "Epoch: 76 loss: 256786.5 learn rate:9.997074428032043e-05 beta: 1e-06 decay: 1e-07\n",
            "Epoch: 77 loss: 0.0024901307 learn rate:9.99699745085531e-05 beta: 1e-06 decay: 1e-07\n",
            "Epoch: 78 loss: 0.0024873386 learn rate:9.996919474579301e-05 beta: 1e-06 decay: 1e-07\n",
            "Epoch: 79 loss: 114335.5 learn rate:9.996840499227404e-05 beta: 1e-06 decay: 1e-07\n",
            "Epoch: 80 loss: 0.002481789 learn rate:9.996760524823308e-05 beta: 1e-06 decay: 1e-07\n",
            "Epoch: 81 loss: 0.0024790326 learn rate:9.996679551391e-05 beta: 1e-06 decay: 1e-07\n",
            "Epoch: 82 loss: 0.0024762878 learn rate:9.996597578954766e-05 beta: 1e-06 decay: 1e-07\n",
            "Epoch: 83 loss: 0.0024735576 learn rate:9.996514607539192e-05 beta: 1e-06 decay: 1e-07\n",
            "Epoch: 84 loss: 0.002470843 learn rate:9.996430637169164e-05 beta: 1e-06 decay: 1e-07\n",
            "Epoch: 85 loss: 0.0024681403 learn rate:9.996345667869869e-05 beta: 1e-06 decay: 1e-07\n",
            "Epoch: 86 loss: 39384.9 learn rate:9.99625969966679e-05 beta: 1e-06 decay: 1e-07\n",
            "Epoch: 87 loss: 0.0024627773 learn rate:9.99617273258571e-05 beta: 1e-06 decay: 1e-07\n",
            "Epoch: 88 loss: 0.002460118 learn rate:9.996084766652714e-05 beta: 1e-06 decay: 1e-07\n",
            "Epoch: 89 loss: 0.002457472 learn rate:9.995995801894184e-05 beta: 1e-06 decay: 1e-07\n",
            "Epoch: 90 loss: 0.0024548387 learn rate:9.995905838336804e-05 beta: 1e-06 decay: 1e-07\n",
            "Epoch: 91 loss: 66925.9 learn rate:9.995814876007554e-05 beta: 1e-06 decay: 1e-07\n",
            "Epoch: 92 loss: 0.002449612 learn rate:9.995722914933717e-05 beta: 1e-06 decay: 1e-07\n",
            "Epoch: 93 loss: 0.0024470175 learn rate:9.995629955142871e-05 beta: 1e-06 decay: 1e-07\n",
            "Epoch: 94 loss: 0.0024444365 learn rate:9.995535996662897e-05 beta: 1e-06 decay: 1e-07\n",
            "Epoch: 95 loss: 0.0024418684 learn rate:9.995441039521977e-05 beta: 1e-06 decay: 1e-07\n",
            "Epoch: 96 loss: 0.0024393133 learn rate:9.995345083748587e-05 beta: 1e-06 decay: 1e-07\n",
            "Epoch: 97 loss: 0.0024367718 learn rate:9.995248129371504e-05 beta: 1e-06 decay: 1e-07\n",
            "Epoch: 98 loss: 0.002434243 learn rate:9.995150176419807e-05 beta: 1e-06 decay: 1e-07\n",
            "Epoch: 99 loss: 0.0024317284 learn rate:9.99505122492287e-05 beta: 1e-06 decay: 1e-07\n"
          ],
          "name": "stdout"
        }
      ]
    },
    {
      "metadata": {
        "id": "YuJHCGE_7BD4",
        "colab_type": "text"
      },
      "cell_type": "markdown",
      "source": [
        "#### Training on the whole training set"
      ]
    },
    {
      "metadata": {
        "id": "qrwNjjGf7BD5",
        "colab_type": "code",
        "colab": {
          "base_uri": "https://localhost:8080/",
          "height": 5168
        },
        "outputId": "6d85e100-d490-429d-8f9c-8eb1157e330b"
      },
      "cell_type": "code",
      "source": [
        "EPOCHS = 100\n",
        "BATCH_SIZE = 500\n",
        "\n",
        "with tf.Session() as sess:\n",
        "    sess.run(tf.initialize_all_variables(), feed_dict={train:1})\n",
        "    num_examples = len(X_train)\n",
        "    \n",
        "    print(\"Training...\")\n",
        "    print()\n",
        "    for i in range(EPOCHS):\n",
        "        lr = float(lr*np.exp(-k*i))\n",
        "        X_train, y_train = shuffle(X_train, y_train)\n",
        "        for offset in range(0, num_examples, BATCH_SIZE):\n",
        "            end = offset + BATCH_SIZE\n",
        "            batch_x, batch_y = X_train[offset:end], y_train[offset:end]\n",
        "            sess.run(training_operation, feed_dict={x: batch_x, y: batch_y, train:1, rate:lr, beta:b})\n",
        "            \n",
        "        validation_accuracy = evaluate(X_validation, y_validation)\n",
        "        print(\"EPOCH {} ...\".format(i+1))\n",
        "        print(\"Validation Accuracy = {:.3f}\".format(validation_accuracy))\n",
        "        print()\n",
        "        \n",
        "    saver.save(sess, '/content/drive/My Drive/tsd/ts_classifier')\n",
        "    print(\"Model saved\")"
      ],
      "execution_count": 30,
      "outputs": [
        {
          "output_type": "stream",
          "text": [
            "Training...\n",
            "\n",
            "EPOCH 1 ...\n",
            "Validation Accuracy = 0.357\n",
            "\n",
            "EPOCH 2 ...\n",
            "Validation Accuracy = 0.549\n",
            "\n",
            "EPOCH 3 ...\n",
            "Validation Accuracy = 0.676\n",
            "\n",
            "EPOCH 4 ...\n",
            "Validation Accuracy = 0.760\n",
            "\n",
            "EPOCH 5 ...\n",
            "Validation Accuracy = 0.817\n",
            "\n",
            "EPOCH 6 ...\n",
            "Validation Accuracy = 0.863\n",
            "\n",
            "EPOCH 7 ...\n",
            "Validation Accuracy = 0.889\n",
            "\n",
            "EPOCH 8 ...\n",
            "Validation Accuracy = 0.908\n",
            "\n",
            "EPOCH 9 ...\n",
            "Validation Accuracy = 0.923\n",
            "\n",
            "EPOCH 10 ...\n",
            "Validation Accuracy = 0.938\n",
            "\n",
            "EPOCH 11 ...\n",
            "Validation Accuracy = 0.945\n",
            "\n",
            "EPOCH 12 ...\n",
            "Validation Accuracy = 0.962\n",
            "\n",
            "EPOCH 13 ...\n",
            "Validation Accuracy = 0.971\n",
            "\n",
            "EPOCH 14 ...\n",
            "Validation Accuracy = 0.976\n",
            "\n",
            "EPOCH 15 ...\n",
            "Validation Accuracy = 0.980\n",
            "\n",
            "EPOCH 16 ...\n",
            "Validation Accuracy = 0.985\n",
            "\n",
            "EPOCH 17 ...\n",
            "Validation Accuracy = 0.986\n",
            "\n",
            "EPOCH 18 ...\n",
            "Validation Accuracy = 0.988\n",
            "\n",
            "EPOCH 19 ...\n",
            "Validation Accuracy = 0.992\n",
            "\n",
            "EPOCH 20 ...\n",
            "Validation Accuracy = 0.993\n",
            "\n",
            "EPOCH 21 ...\n",
            "Validation Accuracy = 0.993\n",
            "\n",
            "EPOCH 22 ...\n",
            "Validation Accuracy = 0.995\n",
            "\n",
            "EPOCH 23 ...\n",
            "Validation Accuracy = 0.993\n",
            "\n",
            "EPOCH 24 ...\n",
            "Validation Accuracy = 0.994\n",
            "\n",
            "EPOCH 25 ...\n",
            "Validation Accuracy = 0.995\n",
            "\n",
            "EPOCH 26 ...\n",
            "Validation Accuracy = 0.995\n",
            "\n",
            "EPOCH 27 ...\n",
            "Validation Accuracy = 0.996\n",
            "\n",
            "EPOCH 28 ...\n",
            "Validation Accuracy = 0.996\n",
            "\n",
            "EPOCH 29 ...\n",
            "Validation Accuracy = 0.996\n",
            "\n",
            "EPOCH 30 ...\n",
            "Validation Accuracy = 0.996\n",
            "\n",
            "EPOCH 31 ...\n",
            "Validation Accuracy = 0.996\n",
            "\n",
            "EPOCH 32 ...\n",
            "Validation Accuracy = 0.996\n",
            "\n",
            "EPOCH 33 ...\n",
            "Validation Accuracy = 0.996\n",
            "\n",
            "EPOCH 34 ...\n",
            "Validation Accuracy = 0.996\n",
            "\n",
            "EPOCH 35 ...\n",
            "Validation Accuracy = 0.997\n",
            "\n",
            "EPOCH 36 ...\n",
            "Validation Accuracy = 0.996\n",
            "\n",
            "EPOCH 37 ...\n",
            "Validation Accuracy = 0.996\n",
            "\n",
            "EPOCH 38 ...\n",
            "Validation Accuracy = 0.997\n",
            "\n",
            "EPOCH 39 ...\n",
            "Validation Accuracy = 0.997\n",
            "\n",
            "EPOCH 40 ...\n",
            "Validation Accuracy = 0.997\n",
            "\n",
            "EPOCH 41 ...\n",
            "Validation Accuracy = 0.997\n",
            "\n",
            "EPOCH 42 ...\n",
            "Validation Accuracy = 0.997\n",
            "\n",
            "EPOCH 43 ...\n",
            "Validation Accuracy = 0.997\n",
            "\n",
            "EPOCH 44 ...\n",
            "Validation Accuracy = 0.997\n",
            "\n",
            "EPOCH 45 ...\n",
            "Validation Accuracy = 0.998\n",
            "\n",
            "EPOCH 46 ...\n",
            "Validation Accuracy = 0.997\n",
            "\n",
            "EPOCH 47 ...\n",
            "Validation Accuracy = 0.997\n",
            "\n",
            "EPOCH 48 ...\n",
            "Validation Accuracy = 0.998\n",
            "\n",
            "EPOCH 49 ...\n",
            "Validation Accuracy = 0.997\n",
            "\n",
            "EPOCH 50 ...\n",
            "Validation Accuracy = 0.998\n",
            "\n",
            "EPOCH 51 ...\n",
            "Validation Accuracy = 0.998\n",
            "\n",
            "EPOCH 52 ...\n",
            "Validation Accuracy = 0.997\n",
            "\n",
            "EPOCH 53 ...\n",
            "Validation Accuracy = 0.998\n",
            "\n",
            "EPOCH 54 ...\n",
            "Validation Accuracy = 0.997\n",
            "\n",
            "EPOCH 55 ...\n",
            "Validation Accuracy = 0.998\n",
            "\n",
            "EPOCH 56 ...\n",
            "Validation Accuracy = 0.998\n",
            "\n",
            "EPOCH 57 ...\n",
            "Validation Accuracy = 0.997\n",
            "\n",
            "EPOCH 58 ...\n",
            "Validation Accuracy = 0.998\n",
            "\n",
            "EPOCH 59 ...\n",
            "Validation Accuracy = 0.998\n",
            "\n",
            "EPOCH 60 ...\n",
            "Validation Accuracy = 0.997\n",
            "\n",
            "EPOCH 61 ...\n",
            "Validation Accuracy = 0.998\n",
            "\n",
            "EPOCH 62 ...\n",
            "Validation Accuracy = 0.998\n",
            "\n",
            "EPOCH 63 ...\n",
            "Validation Accuracy = 0.998\n",
            "\n",
            "EPOCH 64 ...\n",
            "Validation Accuracy = 0.997\n",
            "\n",
            "EPOCH 65 ...\n",
            "Validation Accuracy = 0.996\n",
            "\n",
            "EPOCH 66 ...\n",
            "Validation Accuracy = 0.998\n",
            "\n",
            "EPOCH 67 ...\n",
            "Validation Accuracy = 0.998\n",
            "\n",
            "EPOCH 68 ...\n",
            "Validation Accuracy = 0.997\n",
            "\n",
            "EPOCH 69 ...\n",
            "Validation Accuracy = 0.998\n",
            "\n",
            "EPOCH 70 ...\n",
            "Validation Accuracy = 0.998\n",
            "\n",
            "EPOCH 71 ...\n",
            "Validation Accuracy = 0.997\n",
            "\n",
            "EPOCH 72 ...\n",
            "Validation Accuracy = 0.997\n",
            "\n",
            "EPOCH 73 ...\n",
            "Validation Accuracy = 0.998\n",
            "\n",
            "EPOCH 74 ...\n",
            "Validation Accuracy = 0.997\n",
            "\n",
            "EPOCH 75 ...\n",
            "Validation Accuracy = 0.997\n",
            "\n",
            "EPOCH 76 ...\n",
            "Validation Accuracy = 0.998\n",
            "\n",
            "EPOCH 77 ...\n",
            "Validation Accuracy = 0.998\n",
            "\n",
            "EPOCH 78 ...\n",
            "Validation Accuracy = 0.997\n",
            "\n",
            "EPOCH 79 ...\n",
            "Validation Accuracy = 0.998\n",
            "\n",
            "EPOCH 80 ...\n",
            "Validation Accuracy = 0.997\n",
            "\n",
            "EPOCH 81 ...\n",
            "Validation Accuracy = 0.997\n",
            "\n",
            "EPOCH 82 ...\n",
            "Validation Accuracy = 0.997\n",
            "\n",
            "EPOCH 83 ...\n",
            "Validation Accuracy = 0.998\n",
            "\n",
            "EPOCH 84 ...\n",
            "Validation Accuracy = 0.998\n",
            "\n",
            "EPOCH 85 ...\n",
            "Validation Accuracy = 0.997\n",
            "\n",
            "EPOCH 86 ...\n",
            "Validation Accuracy = 0.997\n",
            "\n",
            "EPOCH 87 ...\n",
            "Validation Accuracy = 0.998\n",
            "\n",
            "EPOCH 88 ...\n",
            "Validation Accuracy = 0.997\n",
            "\n",
            "EPOCH 89 ...\n",
            "Validation Accuracy = 0.998\n",
            "\n",
            "EPOCH 90 ...\n",
            "Validation Accuracy = 0.997\n",
            "\n",
            "EPOCH 91 ...\n",
            "Validation Accuracy = 0.997\n",
            "\n",
            "EPOCH 92 ...\n",
            "Validation Accuracy = 0.998\n",
            "\n",
            "EPOCH 93 ...\n",
            "Validation Accuracy = 0.997\n",
            "\n",
            "EPOCH 94 ...\n",
            "Validation Accuracy = 0.996\n",
            "\n",
            "EPOCH 95 ...\n",
            "Validation Accuracy = 0.997\n",
            "\n",
            "EPOCH 96 ...\n",
            "Validation Accuracy = 0.998\n",
            "\n",
            "EPOCH 97 ...\n",
            "Validation Accuracy = 0.998\n",
            "\n",
            "EPOCH 98 ...\n",
            "Validation Accuracy = 0.998\n",
            "\n",
            "EPOCH 99 ...\n",
            "Validation Accuracy = 0.998\n",
            "\n",
            "EPOCH 100 ...\n",
            "Validation Accuracy = 0.998\n",
            "\n",
            "Model saved\n"
          ],
          "name": "stdout"
        }
      ]
    },
    {
      "metadata": {
        "id": "C6ldDwON7BD8",
        "colab_type": "text"
      },
      "cell_type": "markdown",
      "source": [
        "### Question 4\n",
        "\n",
        "_How did you train your model? (Type of optimizer, batch size, epochs, hyperparameters, etc.)_\n"
      ]
    },
    {
      "metadata": {
        "id": "0owwvWfE7BD-",
        "colab_type": "text"
      },
      "cell_type": "markdown",
      "source": [
        "**Answer:**"
      ]
    },
    {
      "metadata": {
        "id": "wti3w2UR7BD_",
        "colab_type": "text"
      },
      "cell_type": "markdown",
      "source": [
        "* I used the **Adam Optimizer** *(Because it is a good default one.)*\n",
        "* EPOCHS = **100** *(By Trial and Error)*\n",
        "* BATCH_SIZE = **500** *(By Trial and Error)*\n",
        "* Learning Rate = **0.0001** *(Testing over learning rates in the log scale from 1.0 to 1e-7)*\n",
        "* Beta(L2 Regularization) = **1e-6** *(Testing over betas in the log scale from 1.0 to 1e-6)*\n",
        "* Dropout = **0.5** *(Most commonly used)*\n",
        "\n",
        "Before training the model on the whole dataset. I did a **sanity check** in order to ensure that the network has enough capacity to learn from the training set. This sanity check was training the network on a very small subset **(20 images)** from the training set and ensuring that it could **overfit** this data i.e. **loss** is very close to **zero**. \n",
        "\n",
        "After passing this sanity check, I trained the network on the whole training set and caculated it accuracy on the validation step after each epoch. After about **50** epochs it started converging to an accuracy of about **99.8%** and stayed that way till the 100th epoch."
      ]
    },
    {
      "metadata": {
        "id": "iW9m9tvj7BEA",
        "colab_type": "text"
      },
      "cell_type": "markdown",
      "source": [
        "### Question 5\n",
        "\n",
        "\n",
        "_What approach did you take in coming up with a solution to this problem? It may have been a process of trial and error, in which case, outline the steps you took to get to the final solution and why you chose those steps. Perhaps your solution involved an already well known implementation or architecture. In this case, discuss why you think this is suitable for the current problem._"
      ]
    },
    {
      "metadata": {
        "id": "rBt-ZGmT7BEB",
        "colab_type": "text"
      },
      "cell_type": "markdown",
      "source": [
        "**Answer:**"
      ]
    },
    {
      "metadata": {
        "id": "0AJxYu3_7BEC",
        "colab_type": "text"
      },
      "cell_type": "markdown",
      "source": [
        "For optimization I used the Adam Optmizer because it reduces dependance on hyperparamters and is a good **default choice** (Suggeted in CS213n and various [articles](http://sebastianruder.com/optimizing-gradient-descent/) on the web). \n",
        "\n",
        "Epochs and batch size where chozen by trial and error. \n",
        "\n",
        "**Learning rate**, **Beta(L2 Regularization)** and **learning decay** where chosen by Testing on values in logrithmic steps over a certain range(**1.0** to **1e-7** in **log10** steps). I set the dropout in the fully connected layers of my network to **0.5** because it is very commonly used."
      ]
    },
    {
      "metadata": {
        "id": "n3rhXM9E7BEG",
        "colab_type": "text"
      },
      "cell_type": "markdown",
      "source": [
        "---\n",
        "\n",
        "## Step 3: Test a Model on New Images\n",
        "\n",
        "Take several pictures of traffic signs that you find on the web or around you (at least five), and run them through your classifier on your computer to produce example results. The classifier might not recognize some local signs but it could prove interesting nonetheless.\n",
        "\n",
        "You may find `signnames.csv` useful as it contains mappings from the class id (integer) to the actual sign name."
      ]
    },
    {
      "metadata": {
        "id": "kj1yWIZX7BEH",
        "colab_type": "text"
      },
      "cell_type": "markdown",
      "source": [
        "### Implementation\n",
        "\n",
        "Use the code cell (or multiple code cells, if necessary) to implement the first step of your project. Once you have completed your implementation and are satisfied with the results, be sure to thoroughly answer the questions that follow."
      ]
    },
    {
      "metadata": {
        "id": "FHcQzUIP7BEJ",
        "colab_type": "text"
      },
      "cell_type": "markdown",
      "source": [
        "#### Normalizing the test set\n",
        "\n",
        "* Dividing by maximum in all channels\n",
        "* Subtracting the mean image of the **training set**"
      ]
    },
    {
      "metadata": {
        "id": "hkat18SH7BEJ",
        "colab_type": "code",
        "colab": {}
      },
      "cell_type": "code",
      "source": [
        "X_test_norm = X_test/255\n",
        "X_test_norm = X_test_norm - mean_image"
      ],
      "execution_count": 0,
      "outputs": []
    },
    {
      "metadata": {
        "id": "gNHPoDRe7BEQ",
        "colab_type": "text"
      },
      "cell_type": "markdown",
      "source": [
        "In this section I devise a test fucntion which returns:\n",
        "* The accuray.\n",
        "* The **indexes** of the images gotten **wrong** by the network.\n",
        "* The **wrong predictions** of those images."
      ]
    },
    {
      "metadata": {
        "id": "HuIQ6YUw7BES",
        "colab_type": "code",
        "colab": {}
      },
      "cell_type": "code",
      "source": [
        "predictions = tf.argmax(logits, 1)\n",
        "actual = tf.argmax(one_hot_y,1)\n",
        "correct_prediction = tf.equal(predictions, actual)\n",
        "accuracy_operation = tf.reduce_mean(tf.cast(correct_prediction, tf.float32))\n",
        "saver = tf.train.Saver()\n",
        "\n",
        "BATCH_SIZE = 500\n",
        "def evaluate_on_test_data(X_data, y_data):\n",
        "    num_examples = len(X_data)\n",
        "    total_accuracy = 0\n",
        "    sess = tf.get_default_session()\n",
        "\n",
        "    ''' List of indexes and prediction of images gotten wrong by the network'''\n",
        "    gotten_wrong_list = []\n",
        "    \n",
        "    gotten_wrong_index = 0\n",
        "    \n",
        "    for offset in range(0, num_examples, BATCH_SIZE):\n",
        "        batch_x, batch_y = X_data[offset:offset+BATCH_SIZE], y_data[offset:offset+BATCH_SIZE]\n",
        "        accuracy = sess.run(accuracy_operation, feed_dict={x: batch_x, y: batch_y,train:-1})\n",
        "        pred = sess.run(predictions, feed_dict={x:batch_x, y:batch_y, train:-1})\n",
        "        act = sess.run(actual, feed_dict={y:batch_y})\n",
        "        \n",
        "        for a,b in zip(pred,act):\n",
        "            if(not a == b):\n",
        "                gotten_wrong_list.append((gotten_wrong_index,a))\n",
        "            gotten_wrong_index = gotten_wrong_index+1\n",
        "        total_accuracy += (accuracy * len(batch_x))\n",
        "    return (total_accuracy / num_examples), gotten_wrong_list"
      ],
      "execution_count": 0,
      "outputs": []
    },
    {
      "metadata": {
        "id": "etj_ILLR7BEU",
        "colab_type": "text"
      },
      "cell_type": "markdown",
      "source": [
        "### Question 6\n",
        "\n",
        "_Choose five candidate images of traffic signs and provide them in the report. Are there any particular qualities of the image(s) that might make classification difficult? It could be helpful to plot the images in the notebook._\n",
        "\n"
      ]
    },
    {
      "metadata": {
        "id": "sf-BXl1k7BEV",
        "colab_type": "text"
      },
      "cell_type": "markdown",
      "source": [
        "**Answer:**"
      ]
    },
    {
      "metadata": {
        "id": "slGEaZjH7BEW",
        "colab_type": "text"
      },
      "cell_type": "markdown",
      "source": [
        "* We Run the test Images through convnet and also retrive indexes of images **gotten wrong** by the network."
      ]
    },
    {
      "metadata": {
        "id": "6IIXxeXS7BEW",
        "colab_type": "code",
        "colab": {
          "base_uri": "https://localhost:8080/",
          "height": 51
        },
        "outputId": "a5422686-e8a4-4ef6-b073-f06801c3a7b9"
      },
      "cell_type": "code",
      "source": [
        "### Run the predictions here.\n",
        "with tf.Session() as sess:\n",
        "    saver.restore(sess, '/content/drive/My Drive/tsd/ts_classifier')\n",
        "\n",
        "    test_accuracy, gotten_wrong_list = evaluate_on_test_data(X_test_norm, y_test)\n",
        "    print(\"Test Accuracy = {:.3f}\".format(test_accuracy))"
      ],
      "execution_count": 36,
      "outputs": [
        {
          "output_type": "stream",
          "text": [
            "INFO:tensorflow:Restoring parameters from /content/drive/My Drive/tsd/ts_classifier\n",
            "Test Accuracy = 0.954\n"
          ],
          "name": "stdout"
        }
      ]
    },
    {
      "metadata": {
        "id": "Qu8427pg7BEa",
        "colab_type": "text"
      },
      "cell_type": "markdown",
      "source": [
        "* Plotting **5** out of the images gotten wrong by the network."
      ]
    },
    {
      "metadata": {
        "id": "KmLeV3yI7BEb",
        "colab_type": "code",
        "colab": {
          "base_uri": "https://localhost:8080/",
          "height": 182
        },
        "outputId": "6e287788-65b5-474b-9571-a725f19e1d95"
      },
      "cell_type": "code",
      "source": [
        "import matplotlib.pyplot as plt\n",
        "import matplotlib.patches as patches\n",
        "import random\n",
        "\n",
        "%matplotlib inline\n",
        "\n",
        "num_x = 5\n",
        "num_y = 1\n",
        "fig, ax = plt.subplots(num_y,num_x)\n",
        "fig.set_size_inches(10,10)\n",
        "for i in range(num_x*num_y):\n",
        "    n = random.random()*len(gotten_wrong_list)\n",
        "    \n",
        "    ax[i].imshow(X_test[gotten_wrong_list[int(n)][0]])\n",
        "    \n",
        "    ax[i].set_title(\"Actual: \\n\"+sign_names[y_test[gotten_wrong_list[int(n)][0]]],fontsize=8)\n",
        "    ax[i].set_xlabel(\"Prediction: \\n\"+sign_names[gotten_wrong_list[int(n)][1]],fontsize=8)\n",
        "\n",
        "plt.show()"
      ],
      "execution_count": 37,
      "outputs": [
        {
          "output_type": "display_data",
          "data": {
            "image/png": "[encoded data removed]",
            "text/plain": [
              "<matplotlib.figure.Figure at 0x7f2a8de33da0>"
            ]
          },
          "metadata": {
            "tags": []
          }
        }
      ]
    },
    {
      "metadata": {
        "id": "mS58B2zkq_zH",
        "colab_type": "code",
        "colab": {
          "base_uri": "https://localhost:8080/",
          "height": 280
        },
        "outputId": "baf63bfd-42f2-4127-e1d3-e103e2705322"
      },
      "cell_type": "code",
      "source": [
        "import matplotlib.pyplot as plt\n",
        "import matplotlib.patches as patches\n",
        "import random\n",
        "import matplotlib.image as mpimg\n",
        "\n",
        "%matplotlib inline\n",
        "\n",
        "img = mpimg.imread('/content/drive/My Drive/tsd/inter.jpg')\n",
        "\n",
        "\n",
        "plt.imshow(img)\n",
        "plt.xlabel(\"Predictionn: Intersection\")\n",
        "\n",
        "    #ax[i].set_title(\"Actual: \\n\"+sign_names[y_test[gotten_wrong_list[int(n)][0]]],fontsize=8)\n",
        "    #ax[i].set_xlabel(\"Prediction: \\n\"+sign_names[gotten_wrong_list[int(n)][1]],fontsize=8)\n",
        "\n",
        "plt.show()"
      ],
      "execution_count": 20,
      "outputs": [
        {
          "output_type": "display_data",
          "data": {
            "image/png": "[encoded data removed]",
            "text/plain": [
              "<matplotlib.figure.Figure at 0x7f4a3007d7b8>"
            ]
          },
          "metadata": {
            "tags": []
          }
        }
      ]
    },
    {
      "metadata": {
        "id": "hhNJ7PbN7BEe",
        "colab_type": "text"
      },
      "cell_type": "markdown",
      "source": [
        "The Images gotten wrong are **blurry**, or **faded**. Also the conv net predicts images that occur more **frequently** in the dataset as can be seen from the histogram above."
      ]
    },
    {
      "metadata": {
        "id": "bVx5Nih97BEf",
        "colab_type": "text"
      },
      "cell_type": "markdown",
      "source": [
        "### Question 7\n",
        "\n",
        "_Is your model able to perform equally well on captured pictures when compared to testing on the dataset? The simplest way to do this check the accuracy of the predictions. For example, if the model predicted 1 out of 5 signs correctly, it's 20% accurate._\n",
        "\n",
        "_**NOTE:** You could check the accuracy manually by using `signnames.csv` (same directory). This file has a mapping from the class id (0-42) to the corresponding sign name. So, you could take the class id the model outputs, lookup the name in `signnames.csv` and see if it matches the sign from the image._\n"
      ]
    },
    {
      "metadata": {
        "id": "i-wUmUYX7BEh",
        "colab_type": "text"
      },
      "cell_type": "markdown",
      "source": [
        "**Answer:**"
      ]
    },
    {
      "metadata": {
        "id": "rO1Bhoy57BEh",
        "colab_type": "text"
      },
      "cell_type": "markdown",
      "source": [
        "![alt text](https://)* I load a set of **15** custom images from google that I resized to **32x32** by hand. (Loading JPEG images requires `pillow`)."
      ]
    },
    {
      "metadata": {
        "id": "4Tf99uMELUhn",
        "colab_type": "code",
        "colab": {
          "base_uri": "https://localhost:8080/",
          "height": 68
        },
        "outputId": "e4929e19-d3a9-4638-afad-2261762d175d"
      },
      "cell_type": "code",
      "source": [
        "!ls /content/drive/My' 'Drive/tsd/Captured-Image-Data"
      ],
      "execution_count": 3,
      "outputs": [
        {
          "output_type": "stream",
          "text": [
            "image0.jpg   image12.jpg  image1.jpg  image4.jpg  image7.jpg\n",
            "image10.jpg  image13.jpg  image2.jpg  image5.jpg  image8.jpg\n",
            "image11.jpg  image14.jpg  image3.jpg  image6.jpg  image9.jpg\n"
          ],
          "name": "stdout"
        }
      ]
    },
    {
      "metadata": {
        "id": "v7zbo64H7BEi",
        "colab_type": "code",
        "colab": {}
      },
      "cell_type": "code",
      "source": [
        "from matplotlib.image import imread\n",
        "custom_images = []\n",
        "\n",
        "for i in range(15):\n",
        "    custom_images.append(imread(\"/content/drive/My Drive/tsd/Captured-Image-Data/image\"+str(i)+\".jpg\",))"
      ],
      "execution_count": 0,
      "outputs": []
    },
    {
      "metadata": {
        "id": "ukwrSoMw7BEk",
        "colab_type": "text"
      },
      "cell_type": "markdown",
      "source": [
        "* **Normalize** by maximum and subtract the **mean training** image."
      ]
    },
    {
      "metadata": {
        "id": "nJiaF0yA7BEl",
        "colab_type": "code",
        "colab": {
          "base_uri": "https://localhost:8080/",
          "height": 180
        },
        "outputId": "15430499-5b3a-4b84-c324-86a72296dfca"
      },
      "cell_type": "code",
      "source": [
        "X_test_custom = np.array(custom_images)/255\n",
        "#X_test_custom = X_test_custom - mean_image"
      ],
      "execution_count": 8,
      "outputs": [
        {
          "output_type": "error",
          "ename": "NameError",
          "evalue": "ignored",
          "traceback": [
            "\u001b[0;31m---------------------------------------------------------------------------\u001b[0m",
            "\u001b[0;31mNameError\u001b[0m                                 Traceback (most recent call last)",
            "\u001b[0;32m<ipython-input-8-1111b3fa5b27>\u001b[0m in \u001b[0;36m<module>\u001b[0;34m()\u001b[0m\n\u001b[0;32m----> 1\u001b[0;31m \u001b[0mX_test_custom\u001b[0m \u001b[0;34m=\u001b[0m \u001b[0mnp\u001b[0m\u001b[0;34m.\u001b[0m\u001b[0marray\u001b[0m\u001b[0;34m(\u001b[0m\u001b[0mcustom_images\u001b[0m\u001b[0;34m)\u001b[0m\u001b[0;34m/\u001b[0m\u001b[0;36m255\u001b[0m\u001b[0;34m\u001b[0m\u001b[0m\n\u001b[0m\u001b[1;32m      2\u001b[0m \u001b[0;31m#X_test_custom = X_test_custom - mean_image\u001b[0m\u001b[0;34m\u001b[0m\u001b[0;34m\u001b[0m\u001b[0m\n",
            "\u001b[0;31mNameError\u001b[0m: name 'np' is not defined"
          ]
        }
      ]
    },
    {
      "metadata": {
        "id": "p5Wpeg3k7BEn",
        "colab_type": "text"
      },
      "cell_type": "markdown",
      "source": [
        "* I made a prediction fuction."
      ]
    },
    {
      "metadata": {
        "id": "0bwmRGUq7BEo",
        "colab_type": "code",
        "colab": {
          "base_uri": "https://localhost:8080/",
          "height": 231
        },
        "outputId": "5f1e3b16-6364-4ad5-912f-2c28aa3b5bc4"
      },
      "cell_type": "code",
      "source": [
        "predictions = tf.argmax(logits, 1)\n",
        "\n",
        "def predict_on_custom_data(X_data):\n",
        "    sess = tf.get_default_session()\n",
        "    pred = sess.run(predictions, feed_dict={x:X_data, train:-1})\n",
        "    return pred"
      ],
      "execution_count": 6,
      "outputs": [
        {
          "output_type": "error",
          "ename": "NameError",
          "evalue": "ignored",
          "traceback": [
            "\u001b[0;31m---------------------------------------------------------------------------\u001b[0m",
            "\u001b[0;31mNameError\u001b[0m                                 Traceback (most recent call last)",
            "\u001b[0;32m<ipython-input-6-76e6c15033de>\u001b[0m in \u001b[0;36m<module>\u001b[0;34m()\u001b[0m\n\u001b[0;32m----> 1\u001b[0;31m \u001b[0mpredictions\u001b[0m \u001b[0;34m=\u001b[0m \u001b[0mtf\u001b[0m\u001b[0;34m.\u001b[0m\u001b[0margmax\u001b[0m\u001b[0;34m(\u001b[0m\u001b[0mlogits\u001b[0m\u001b[0;34m,\u001b[0m \u001b[0;36m1\u001b[0m\u001b[0;34m)\u001b[0m\u001b[0;34m\u001b[0m\u001b[0m\n\u001b[0m\u001b[1;32m      2\u001b[0m \u001b[0;34m\u001b[0m\u001b[0m\n\u001b[1;32m      3\u001b[0m \u001b[0;32mdef\u001b[0m \u001b[0mpredict_on_custom_data\u001b[0m\u001b[0;34m(\u001b[0m\u001b[0mX_data\u001b[0m\u001b[0;34m)\u001b[0m\u001b[0;34m:\u001b[0m\u001b[0;34m\u001b[0m\u001b[0m\n\u001b[1;32m      4\u001b[0m     \u001b[0msess\u001b[0m \u001b[0;34m=\u001b[0m \u001b[0mtf\u001b[0m\u001b[0;34m.\u001b[0m\u001b[0mget_default_session\u001b[0m\u001b[0;34m(\u001b[0m\u001b[0;34m)\u001b[0m\u001b[0;34m\u001b[0m\u001b[0m\n\u001b[1;32m      5\u001b[0m     \u001b[0mpred\u001b[0m \u001b[0;34m=\u001b[0m \u001b[0msess\u001b[0m\u001b[0;34m.\u001b[0m\u001b[0mrun\u001b[0m\u001b[0;34m(\u001b[0m\u001b[0mpredictions\u001b[0m\u001b[0;34m,\u001b[0m \u001b[0mfeed_dict\u001b[0m\u001b[0;34m=\u001b[0m\u001b[0;34m{\u001b[0m\u001b[0mx\u001b[0m\u001b[0;34m:\u001b[0m\u001b[0mX_data\u001b[0m\u001b[0;34m,\u001b[0m \u001b[0mtrain\u001b[0m\u001b[0;34m:\u001b[0m\u001b[0;34m-\u001b[0m\u001b[0;36m1\u001b[0m\u001b[0;34m}\u001b[0m\u001b[0;34m)\u001b[0m\u001b[0;34m\u001b[0m\u001b[0m\n",
            "\u001b[0;31mNameError\u001b[0m: name 'tf' is not defined"
          ]
        }
      ]
    },
    {
      "metadata": {
        "id": "llDqPIQH7BEr",
        "colab_type": "text"
      },
      "cell_type": "markdown",
      "source": [
        "* Run the images through hte Conv Net Classifier and get predictions"
      ]
    },
    {
      "metadata": {
        "id": "1wQPQm0m7BEs",
        "colab_type": "code",
        "colab": {
          "base_uri": "https://localhost:8080/",
          "height": 51
        },
        "outputId": "c54f73e6-3ad6-4770-8011-9ccfa9f17ce7"
      },
      "cell_type": "code",
      "source": [
        "with tf.Session() as sess:\n",
        "    saver.restore(sess, '/content/drive/My Drive/tsd/ts_classifier')\n",
        "\n",
        "    predictions = predict_on_custom_data(X_test_custom)\n",
        "    print(predictions)"
      ],
      "execution_count": 75,
      "outputs": [
        {
          "output_type": "stream",
          "text": [
            "INFO:tensorflow:Restoring parameters from /content/drive/My Drive/tsd/ts_classifier\n",
            "[14 14  2 14  1  2 35 35 35 33 33 40 40 12 12]\n"
          ],
          "name": "stdout"
        }
      ]
    },
    {
      "metadata": {
        "id": "IxagJABQ7BEv",
        "colab_type": "text"
      },
      "cell_type": "markdown",
      "source": [
        "* **Plot the images along with their predictions**"
      ]
    },
    {
      "metadata": {
        "id": "-jwC464y7BEx",
        "colab_type": "code",
        "colab": {
          "base_uri": "https://localhost:8080/",
          "height": 549
        },
        "outputId": "8a32d03f-cba2-461c-ab1e-305d1bddc7b3"
      },
      "cell_type": "code",
      "source": [
        "import matplotlib.pyplot as plt\n",
        "import matplotlib.patches as patches\n",
        "import random\n",
        "\n",
        "# Visualizations will be shown in the notebook.\n",
        "%matplotlib inline\n",
        "\n",
        "num_x = 5\n",
        "num_y = 3\n",
        "fig, ax = plt.subplots(num_y,num_x)\n",
        "fig.set_size_inches(10,10)\n",
        "for i in range(num_x*num_y):\n",
        "    ax[int(i/num_x)][int(i%num_x)].imshow(custom_images[i])\n",
        "    \n",
        "    ax[int(i/num_x)][int(i%num_x)].set_xlabel(\"Prediction: \\n\"+sign_names[predictions[int(i)]],fontsize=8)\n",
        "\n",
        "plt.show()"
      ],
      "execution_count": 76,
      "outputs": [
        {
          "output_type": "display_data",
          "data": {
            "image/png": "[encoded data removed]",
            "text/plain": [
              "<matplotlib.figure.Figure at 0x7f2a8d5b3e10>"
            ]
          },
          "metadata": {
            "tags": []
          }
        }
      ]
    },
    {
      "metadata": {
        "id": "Rk_Wq3wD7BE5",
        "colab_type": "text"
      },
      "cell_type": "markdown",
      "source": [
        "### Question 8\n",
        "\n",
        "*Use the model's softmax probabilities to visualize the **certainty** of its predictions, [`tf.nn.top_k`](https://www.tensorflow.org/versions/r0.12/api_docs/python/nn.html#top_k) could prove helpful here. Which predictions is the model certain of? Uncertain? If the model was incorrect in its initial prediction, does the correct prediction appear in the top k? (k should be 5 at most)*\n",
        "\n",
        "`tf.nn.top_k` will return the values and indices (class ids) of the top k predictions. So if k=3, for each sign, it'll return the 3 largest probabilities (out of a possible 43) and the correspoding class ids.\n",
        "\n",
        "Take this numpy array as an example:\n",
        "\n",
        "```\n",
        "# (5, 6) array\n",
        "a = np.array([[ 0.24879643,  0.07032244,  0.12641572,  0.34763842,  0.07893497,\n",
        "         0.12789202],\n",
        "       [ 0.28086119,  0.27569815,  0.08594638,  0.0178669 ,  0.18063401,\n",
        "         0.15899337],\n",
        "       [ 0.26076848,  0.23664738,  0.08020603,  0.07001922,  0.1134371 ,\n",
        "         0.23892179],\n",
        "       [ 0.11943333,  0.29198961,  0.02605103,  0.26234032,  0.1351348 ,\n",
        "         0.16505091],\n",
        "       [ 0.09561176,  0.34396535,  0.0643941 ,  0.16240774,  0.24206137,\n",
        "         0.09155967]])\n",
        "```\n",
        "\n",
        "Running it through `sess.run(tf.nn.top_k(tf.constant(a), k=3))` produces:\n",
        "\n",
        "```\n",
        "TopKV2(values=array([[ 0.34763842,  0.24879643,  0.12789202],\n",
        "       [ 0.28086119,  0.27569815,  0.18063401],\n",
        "       [ 0.26076848,  0.23892179,  0.23664738],\n",
        "       [ 0.29198961,  0.26234032,  0.16505091],\n",
        "       [ 0.34396535,  0.24206137,  0.16240774]]), indices=array([[3, 0, 5],\n",
        "       [0, 1, 4],\n",
        "       [0, 5, 1],\n",
        "       [1, 3, 5],\n",
        "       [1, 4, 3]], dtype=int32))\n",
        "```\n",
        "\n",
        "Looking just at the first row we get `[ 0.34763842,  0.24879643,  0.12789202]`, you can confirm these are the 3 largest probabilities in `a`. You'll also notice `[3, 0, 5]` are the corresponding indices."
      ]
    },
    {
      "metadata": {
        "id": "FqlCcjaA7BE6",
        "colab_type": "text"
      },
      "cell_type": "markdown",
      "source": [
        "**Answer:**"
      ]
    },
    {
      "metadata": {
        "id": "iC8oYG7_7BE9",
        "colab_type": "text"
      },
      "cell_type": "markdown",
      "source": [
        "* Function for getting **top 3 predictions** and thier **softmax** probabilities"
      ]
    },
    {
      "metadata": {
        "id": "07L8-cNn7BE-",
        "colab_type": "code",
        "colab": {}
      },
      "cell_type": "code",
      "source": [
        "top_predictions = tf.nn.top_k(tf.nn.softmax(logits), k=3)\n",
        "\n",
        "def top_predict_on_custom_data(X_data):\n",
        "    sess = tf.get_default_session()\n",
        "    pred = sess.run(top_predictions, feed_dict={x:X_data, train:-1})\n",
        "    return pred"
      ],
      "execution_count": 0,
      "outputs": []
    },
    {
      "metadata": {
        "id": "2Z6dIVic7BFB",
        "colab_type": "text"
      },
      "cell_type": "markdown",
      "source": [
        "* Get **Top 3** predictions for all the images"
      ]
    },
    {
      "metadata": {
        "id": "19PVJ6Pv7BFC",
        "colab_type": "code",
        "colab": {}
      },
      "cell_type": "code",
      "source": [
        "with tf.Session() as sess:\n",
        "    saver.restore(sess, tf.train.latest_checkpoint('.'))\n",
        "    predictions = top_predict_on_custom_data(X_test_custom)"
      ],
      "execution_count": 0,
      "outputs": []
    },
    {
      "metadata": {
        "id": "7VivkNyY7BFF",
        "colab_type": "text"
      },
      "cell_type": "markdown",
      "source": [
        "* Plot the **images** along with the probabilities of the **top 3 predications**"
      ]
    },
    {
      "metadata": {
        "id": "yKOn7lhO7BFF",
        "colab_type": "code",
        "colab": {}
      },
      "cell_type": "code",
      "source": [
        "import matplotlib.pyplot as plt\n",
        "import matplotlib.patches as patches\n",
        "import random\n",
        "\n",
        "# Visualizations will be shown in the notebook.\n",
        "%matplotlib inline\n",
        "\n",
        "num_x = 3\n",
        "num_y = 5\n",
        "fig, ax = plt.subplots(num_y,num_x)\n",
        "fig.set_size_inches(10,20)\n",
        "for i in range(num_x*num_y):\n",
        "    ax[i/num_x][i%num_x].imshow(custom_images[i])\n",
        "\n",
        "    ax[i/num_x][i%num_x].set_xlabel(\n",
        "        \"Predictions: \\n\"+\n",
        "        sign_names[predictions.indices[int(i)][0]]+\n",
        "                   \": \"+str(predictions.values[int(i)][0])+\"\\n\"+\n",
        "                   sign_names[predictions.indices[int(i)][1]]+\n",
        "                              \": \"+str(predictions.values[int(i)][1])+\"\\n\"+\n",
        "                              sign_names[predictions.indices[int(i)][2]]+\n",
        "                                         \": \"+str(predictions.values[int(i)][2])\n",
        "                  ,fontsize=8)\n",
        "\n",
        "plt.show()"
      ],
      "execution_count": 0,
      "outputs": []
    },
    {
      "metadata": {
        "id": "lLtIzmPr7BFJ",
        "colab_type": "text"
      },
      "cell_type": "markdown",
      "source": [
        "The Model is very ceratin about most the images that I used to test it giving **>0.9** softmax probability to the top result"
      ]
    },
    {
      "metadata": {
        "id": "A5mex7XH7BFK",
        "colab_type": "text"
      },
      "cell_type": "markdown",
      "source": [
        "> **Note**: Once you have completed all of the code implementations and successfully answered each question above, you may finalize your work by exporting the iPython Notebook as an HTML document. You can do this by using the menu above and navigating to  \\n\",\n",
        "    \"**File -> Download as -> HTML (.html)**. Include the finished document along with this notebook as your submission."
      ]
    }
  ]
}